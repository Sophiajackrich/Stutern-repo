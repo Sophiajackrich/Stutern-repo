{
  "cells": [
    {
      "cell_type": "markdown",
      "metadata": {
        "id": "view-in-github",
        "colab_type": "text"
      },
      "source": [
        "<a href=\"https://colab.research.google.com/github/Sophiajackrich/Stutern-repo/blob/master/DATA_VISUALIZATION_Assignment_5.ipynb\" target=\"_parent\"><img src=\"https://colab.research.google.com/assets/colab-badge.svg\" alt=\"Open In Colab\"/></a>"
      ]
    },
    {
      "cell_type": "markdown",
      "metadata": {
        "id": "27c9aa61-8e50-4ce9-95b1-ee11d85dd067"
      },
      "source": [
        "# Assignment 5 (Week 5)\n",
        "\n",
        ">**Note**: Late submissions are ***`penalized`***.\n",
        "\n",
        "## Name: JACKRICH SOPHIA\n",
        "\n",
        "<br>\n",
        "\n",
        "## Please show and display ALL your calculations and results.\n",
        "> Remember to read the **`instructions`** carefully."
      ],
      "id": "27c9aa61-8e50-4ce9-95b1-ee11d85dd067"
    },
    {
      "cell_type": "code",
      "execution_count": 2,
      "metadata": {
        "id": "5f4da313-7d5a-4b4d-a9fe-5b814bb3ab3c",
        "scrolled": true
      },
      "outputs": [],
      "source": [
        "# Standard imports\n",
        "import numpy as np\n",
        "import pandas as pd\n",
        "import matplotlib.pyplot as plt\n",
        "import seaborn as sns\n",
        "\n",
        "# Built-in library\n",
        "import itertools\n",
        "import typing as tp\n",
        "\n",
        "# pandas settings\n",
        "pd.options.display.max_rows = 1_000\n",
        "pd.options.display.max_columns = 1_000\n",
        "pd.options.display.max_colwidth = 1_000"
      ],
      "id": "5f4da313-7d5a-4b4d-a9fe-5b814bb3ab3c"
    },
    {
      "cell_type": "markdown",
      "metadata": {
        "id": "bd5917e0-2629-4fa0-8dc0-148166a479d3"
      },
      "source": [
        "### Download the data [here](https://drive.google.com/file/d/1BhBejDklCoqsqqAcvycA4n7AIpeRnych/view?usp=share_link)\n",
        "\n",
        "### Problem Statement\n",
        "\n",
        "**Customer Personality Analysis** is a detailed analysis of a company’s ideal customers. It helps a business to better understand its customers and makes it easier for them to modify products according to the specific needs, behaviors and concerns of different types of customers.\n",
        "\n",
        "Customer personality analysis helps a business to modify its product based on its target customers from different types of customer segments. For example, instead of spending money to market a new product to every customer in the company’s database, a company can analyze which customer segment is most likely to buy the product and then market the product only on that particular segment.\n",
        "\n",
        "### Target\n",
        "Need to perform **clustering** to summarize customer segments.\n",
        "\n",
        "### Attributes\n",
        "\n",
        "```\n",
        "Attributes\n",
        "\n",
        "People\n",
        "------\n",
        "ID: Customer's unique identifier\n",
        "Year_Birth: Customer's birth year\n",
        "Education: Customer's education level\n",
        "Marital_Status: Customer's marital status\n",
        "Income: Customer's yearly household income\n",
        "Kidhome: Number of children in customer's household\n",
        "Teenhome: Number of teenagers in customer's household\n",
        "Dt_Customer: Date of customer's enrollment with the company\n",
        "Recency: Number of days since customer's last purchase\n",
        "Complain: 1 if the customer complained in the last 2 years, 0 otherwise\n",
        "\n",
        "Products\n",
        "--------\n",
        "MntWines: Amount spent on wine in last 2 years\n",
        "MntFruits: Amount spent on fruits in last 2 years\n",
        "MntMeatProducts: Amount spent on meat in last 2 years\n",
        "MntFishProducts: Amount spent on fish in last 2 years\n",
        "MntSweetProducts: Amount spent on sweets in last 2 years\n",
        "MntGoldProds: Amount spent on gold in last 2 years\n",
        "\n",
        "Promotion\n",
        "---------\n",
        "NumDealsPurchases: Number of purchases made with a discount\n",
        "AcceptedCmp1: 1 if customer accepted the offer in the 1st campaign, 0 otherwise\n",
        "AcceptedCmp2: 1 if customer accepted the offer in the 2nd campaign, 0 otherwise\n",
        "AcceptedCmp3: 1 if customer accepted the offer in the 3rd campaign, 0 otherwise\n",
        "AcceptedCmp4: 1 if customer accepted the offer in the 4th campaign, 0 otherwise\n",
        "AcceptedCmp5: 1 if customer accepted the offer in the 5th campaign, 0 otherwise\n",
        "Response: 1 if customer accepted the offer in the last campaign, 0 otherwise\n",
        "\n",
        "Place\n",
        "-----\n",
        "NumWebPurchases: Number of purchases made through the company’s website\n",
        "NumCatalogPurchases: Number of purchases made using a catalogue\n",
        "NumStorePurchases: Number of purchases made directly in stores\n",
        "NumWebVisitsMonth: Number of visits to company’s website in the last month\n",
        "```"
      ],
      "id": "bd5917e0-2629-4fa0-8dc0-148166a479d3"
    },
    {
      "cell_type": "code",
      "execution_count": 3,
      "metadata": {
        "colab": {
          "base_uri": "https://localhost:8080/",
          "height": 270
        },
        "id": "jYms1994v4KU",
        "outputId": "e6c03f2c-3df9-457f-e8b8-2b3b274987a7"
      },
      "outputs": [
        {
          "output_type": "execute_result",
          "data": {
            "text/plain": [
              "     ID  Year_Birth   Education Marital_Status   Income  Kidhome  Teenhome  \\\n",
              "0  5524        1957  Graduation         Single  58138.0        0         0   \n",
              "1  2174        1954  Graduation         Single  46344.0        1         1   \n",
              "2  4141        1965  Graduation       Together  71613.0        0         0   \n",
              "3  6182        1984  Graduation       Together  26646.0        1         0   \n",
              "4  5324        1981         PhD        Married  58293.0        1         0   \n",
              "\n",
              "  Dt_Customer  Recency  MntWines  MntFruits  MntMeatProducts  MntFishProducts  \\\n",
              "0  04-09-2012       58       635         88              546              172   \n",
              "1  08-03-2014       38        11          1                6                2   \n",
              "2  21-08-2013       26       426         49              127              111   \n",
              "3  10-02-2014       26        11          4               20               10   \n",
              "4  19-01-2014       94       173         43              118               46   \n",
              "\n",
              "   MntSweetProducts  MntGoldProds  NumDealsPurchases  NumWebPurchases  \\\n",
              "0                88            88                  3                8   \n",
              "1                 1             6                  2                1   \n",
              "2                21            42                  1                8   \n",
              "3                 3             5                  2                2   \n",
              "4                27            15                  5                5   \n",
              "\n",
              "   NumCatalogPurchases  NumStorePurchases  NumWebVisitsMonth  AcceptedCmp3  \\\n",
              "0                   10                  4                  7             0   \n",
              "1                    1                  2                  5             0   \n",
              "2                    2                 10                  4             0   \n",
              "3                    0                  4                  6             0   \n",
              "4                    3                  6                  5             0   \n",
              "\n",
              "   AcceptedCmp4  AcceptedCmp5  AcceptedCmp1  AcceptedCmp2  Complain  \\\n",
              "0             0             0             0             0         0   \n",
              "1             0             0             0             0         0   \n",
              "2             0             0             0             0         0   \n",
              "3             0             0             0             0         0   \n",
              "4             0             0             0             0         0   \n",
              "\n",
              "   Z_CostContact  Z_Revenue  Response  \n",
              "0              3         11         1  \n",
              "1              3         11         0  \n",
              "2              3         11         0  \n",
              "3              3         11         0  \n",
              "4              3         11         0  "
            ],
            "text/html": [
              "\n",
              "  <div id=\"df-bd59d2aa-6f84-49d3-b935-be56809a98df\">\n",
              "    <div class=\"colab-df-container\">\n",
              "      <div>\n",
              "<style scoped>\n",
              "    .dataframe tbody tr th:only-of-type {\n",
              "        vertical-align: middle;\n",
              "    }\n",
              "\n",
              "    .dataframe tbody tr th {\n",
              "        vertical-align: top;\n",
              "    }\n",
              "\n",
              "    .dataframe thead th {\n",
              "        text-align: right;\n",
              "    }\n",
              "</style>\n",
              "<table border=\"1\" class=\"dataframe\">\n",
              "  <thead>\n",
              "    <tr style=\"text-align: right;\">\n",
              "      <th></th>\n",
              "      <th>ID</th>\n",
              "      <th>Year_Birth</th>\n",
              "      <th>Education</th>\n",
              "      <th>Marital_Status</th>\n",
              "      <th>Income</th>\n",
              "      <th>Kidhome</th>\n",
              "      <th>Teenhome</th>\n",
              "      <th>Dt_Customer</th>\n",
              "      <th>Recency</th>\n",
              "      <th>MntWines</th>\n",
              "      <th>MntFruits</th>\n",
              "      <th>MntMeatProducts</th>\n",
              "      <th>MntFishProducts</th>\n",
              "      <th>MntSweetProducts</th>\n",
              "      <th>MntGoldProds</th>\n",
              "      <th>NumDealsPurchases</th>\n",
              "      <th>NumWebPurchases</th>\n",
              "      <th>NumCatalogPurchases</th>\n",
              "      <th>NumStorePurchases</th>\n",
              "      <th>NumWebVisitsMonth</th>\n",
              "      <th>AcceptedCmp3</th>\n",
              "      <th>AcceptedCmp4</th>\n",
              "      <th>AcceptedCmp5</th>\n",
              "      <th>AcceptedCmp1</th>\n",
              "      <th>AcceptedCmp2</th>\n",
              "      <th>Complain</th>\n",
              "      <th>Z_CostContact</th>\n",
              "      <th>Z_Revenue</th>\n",
              "      <th>Response</th>\n",
              "    </tr>\n",
              "  </thead>\n",
              "  <tbody>\n",
              "    <tr>\n",
              "      <th>0</th>\n",
              "      <td>5524</td>\n",
              "      <td>1957</td>\n",
              "      <td>Graduation</td>\n",
              "      <td>Single</td>\n",
              "      <td>58138.0</td>\n",
              "      <td>0</td>\n",
              "      <td>0</td>\n",
              "      <td>04-09-2012</td>\n",
              "      <td>58</td>\n",
              "      <td>635</td>\n",
              "      <td>88</td>\n",
              "      <td>546</td>\n",
              "      <td>172</td>\n",
              "      <td>88</td>\n",
              "      <td>88</td>\n",
              "      <td>3</td>\n",
              "      <td>8</td>\n",
              "      <td>10</td>\n",
              "      <td>4</td>\n",
              "      <td>7</td>\n",
              "      <td>0</td>\n",
              "      <td>0</td>\n",
              "      <td>0</td>\n",
              "      <td>0</td>\n",
              "      <td>0</td>\n",
              "      <td>0</td>\n",
              "      <td>3</td>\n",
              "      <td>11</td>\n",
              "      <td>1</td>\n",
              "    </tr>\n",
              "    <tr>\n",
              "      <th>1</th>\n",
              "      <td>2174</td>\n",
              "      <td>1954</td>\n",
              "      <td>Graduation</td>\n",
              "      <td>Single</td>\n",
              "      <td>46344.0</td>\n",
              "      <td>1</td>\n",
              "      <td>1</td>\n",
              "      <td>08-03-2014</td>\n",
              "      <td>38</td>\n",
              "      <td>11</td>\n",
              "      <td>1</td>\n",
              "      <td>6</td>\n",
              "      <td>2</td>\n",
              "      <td>1</td>\n",
              "      <td>6</td>\n",
              "      <td>2</td>\n",
              "      <td>1</td>\n",
              "      <td>1</td>\n",
              "      <td>2</td>\n",
              "      <td>5</td>\n",
              "      <td>0</td>\n",
              "      <td>0</td>\n",
              "      <td>0</td>\n",
              "      <td>0</td>\n",
              "      <td>0</td>\n",
              "      <td>0</td>\n",
              "      <td>3</td>\n",
              "      <td>11</td>\n",
              "      <td>0</td>\n",
              "    </tr>\n",
              "    <tr>\n",
              "      <th>2</th>\n",
              "      <td>4141</td>\n",
              "      <td>1965</td>\n",
              "      <td>Graduation</td>\n",
              "      <td>Together</td>\n",
              "      <td>71613.0</td>\n",
              "      <td>0</td>\n",
              "      <td>0</td>\n",
              "      <td>21-08-2013</td>\n",
              "      <td>26</td>\n",
              "      <td>426</td>\n",
              "      <td>49</td>\n",
              "      <td>127</td>\n",
              "      <td>111</td>\n",
              "      <td>21</td>\n",
              "      <td>42</td>\n",
              "      <td>1</td>\n",
              "      <td>8</td>\n",
              "      <td>2</td>\n",
              "      <td>10</td>\n",
              "      <td>4</td>\n",
              "      <td>0</td>\n",
              "      <td>0</td>\n",
              "      <td>0</td>\n",
              "      <td>0</td>\n",
              "      <td>0</td>\n",
              "      <td>0</td>\n",
              "      <td>3</td>\n",
              "      <td>11</td>\n",
              "      <td>0</td>\n",
              "    </tr>\n",
              "    <tr>\n",
              "      <th>3</th>\n",
              "      <td>6182</td>\n",
              "      <td>1984</td>\n",
              "      <td>Graduation</td>\n",
              "      <td>Together</td>\n",
              "      <td>26646.0</td>\n",
              "      <td>1</td>\n",
              "      <td>0</td>\n",
              "      <td>10-02-2014</td>\n",
              "      <td>26</td>\n",
              "      <td>11</td>\n",
              "      <td>4</td>\n",
              "      <td>20</td>\n",
              "      <td>10</td>\n",
              "      <td>3</td>\n",
              "      <td>5</td>\n",
              "      <td>2</td>\n",
              "      <td>2</td>\n",
              "      <td>0</td>\n",
              "      <td>4</td>\n",
              "      <td>6</td>\n",
              "      <td>0</td>\n",
              "      <td>0</td>\n",
              "      <td>0</td>\n",
              "      <td>0</td>\n",
              "      <td>0</td>\n",
              "      <td>0</td>\n",
              "      <td>3</td>\n",
              "      <td>11</td>\n",
              "      <td>0</td>\n",
              "    </tr>\n",
              "    <tr>\n",
              "      <th>4</th>\n",
              "      <td>5324</td>\n",
              "      <td>1981</td>\n",
              "      <td>PhD</td>\n",
              "      <td>Married</td>\n",
              "      <td>58293.0</td>\n",
              "      <td>1</td>\n",
              "      <td>0</td>\n",
              "      <td>19-01-2014</td>\n",
              "      <td>94</td>\n",
              "      <td>173</td>\n",
              "      <td>43</td>\n",
              "      <td>118</td>\n",
              "      <td>46</td>\n",
              "      <td>27</td>\n",
              "      <td>15</td>\n",
              "      <td>5</td>\n",
              "      <td>5</td>\n",
              "      <td>3</td>\n",
              "      <td>6</td>\n",
              "      <td>5</td>\n",
              "      <td>0</td>\n",
              "      <td>0</td>\n",
              "      <td>0</td>\n",
              "      <td>0</td>\n",
              "      <td>0</td>\n",
              "      <td>0</td>\n",
              "      <td>3</td>\n",
              "      <td>11</td>\n",
              "      <td>0</td>\n",
              "    </tr>\n",
              "  </tbody>\n",
              "</table>\n",
              "</div>\n",
              "      <button class=\"colab-df-convert\" onclick=\"convertToInteractive('df-bd59d2aa-6f84-49d3-b935-be56809a98df')\"\n",
              "              title=\"Convert this dataframe to an interactive table.\"\n",
              "              style=\"display:none;\">\n",
              "        \n",
              "  <svg xmlns=\"http://www.w3.org/2000/svg\" height=\"24px\"viewBox=\"0 0 24 24\"\n",
              "       width=\"24px\">\n",
              "    <path d=\"M0 0h24v24H0V0z\" fill=\"none\"/>\n",
              "    <path d=\"M18.56 5.44l.94 2.06.94-2.06 2.06-.94-2.06-.94-.94-2.06-.94 2.06-2.06.94zm-11 1L8.5 8.5l.94-2.06 2.06-.94-2.06-.94L8.5 2.5l-.94 2.06-2.06.94zm10 10l.94 2.06.94-2.06 2.06-.94-2.06-.94-.94-2.06-.94 2.06-2.06.94z\"/><path d=\"M17.41 7.96l-1.37-1.37c-.4-.4-.92-.59-1.43-.59-.52 0-1.04.2-1.43.59L10.3 9.45l-7.72 7.72c-.78.78-.78 2.05 0 2.83L4 21.41c.39.39.9.59 1.41.59.51 0 1.02-.2 1.41-.59l7.78-7.78 2.81-2.81c.8-.78.8-2.07 0-2.86zM5.41 20L4 18.59l7.72-7.72 1.47 1.35L5.41 20z\"/>\n",
              "  </svg>\n",
              "      </button>\n",
              "      \n",
              "  <style>\n",
              "    .colab-df-container {\n",
              "      display:flex;\n",
              "      flex-wrap:wrap;\n",
              "      gap: 12px;\n",
              "    }\n",
              "\n",
              "    .colab-df-convert {\n",
              "      background-color: #E8F0FE;\n",
              "      border: none;\n",
              "      border-radius: 50%;\n",
              "      cursor: pointer;\n",
              "      display: none;\n",
              "      fill: #1967D2;\n",
              "      height: 32px;\n",
              "      padding: 0 0 0 0;\n",
              "      width: 32px;\n",
              "    }\n",
              "\n",
              "    .colab-df-convert:hover {\n",
              "      background-color: #E2EBFA;\n",
              "      box-shadow: 0px 1px 2px rgba(60, 64, 67, 0.3), 0px 1px 3px 1px rgba(60, 64, 67, 0.15);\n",
              "      fill: #174EA6;\n",
              "    }\n",
              "\n",
              "    [theme=dark] .colab-df-convert {\n",
              "      background-color: #3B4455;\n",
              "      fill: #D2E3FC;\n",
              "    }\n",
              "\n",
              "    [theme=dark] .colab-df-convert:hover {\n",
              "      background-color: #434B5C;\n",
              "      box-shadow: 0px 1px 3px 1px rgba(0, 0, 0, 0.15);\n",
              "      filter: drop-shadow(0px 1px 2px rgba(0, 0, 0, 0.3));\n",
              "      fill: #FFFFFF;\n",
              "    }\n",
              "  </style>\n",
              "\n",
              "      <script>\n",
              "        const buttonEl =\n",
              "          document.querySelector('#df-bd59d2aa-6f84-49d3-b935-be56809a98df button.colab-df-convert');\n",
              "        buttonEl.style.display =\n",
              "          google.colab.kernel.accessAllowed ? 'block' : 'none';\n",
              "\n",
              "        async function convertToInteractive(key) {\n",
              "          const element = document.querySelector('#df-bd59d2aa-6f84-49d3-b935-be56809a98df');\n",
              "          const dataTable =\n",
              "            await google.colab.kernel.invokeFunction('convertToInteractive',\n",
              "                                                     [key], {});\n",
              "          if (!dataTable) return;\n",
              "\n",
              "          const docLinkHtml = 'Like what you see? Visit the ' +\n",
              "            '<a target=\"_blank\" href=https://colab.research.google.com/notebooks/data_table.ipynb>data table notebook</a>'\n",
              "            + ' to learn more about interactive tables.';\n",
              "          element.innerHTML = '';\n",
              "          dataTable['output_type'] = 'display_data';\n",
              "          await google.colab.output.renderOutput(dataTable, element);\n",
              "          const docLink = document.createElement('div');\n",
              "          docLink.innerHTML = docLinkHtml;\n",
              "          element.appendChild(docLink);\n",
              "        }\n",
              "      </script>\n",
              "    </div>\n",
              "  </div>\n",
              "  "
            ]
          },
          "metadata": {},
          "execution_count": 3
        }
      ],
      "source": [
        "# load data \n",
        "file = \"/content/marketing_campaign.csv\"\n",
        "df = pd.read_csv(file, sep=\"\\t\")\n",
        "\n",
        "# copy data \n",
        "df1 = df.copy()\n",
        "df1.head()"
      ],
      "id": "jYms1994v4KU"
    },
    {
      "cell_type": "markdown",
      "metadata": {
        "id": "z-1fKKYMoZ4p"
      },
      "source": [
        "**BUILDING METHOD CHAINS FOR MY DATA VISUALIZATION**"
      ],
      "id": "z-1fKKYMoZ4p"
    },
    {
      "cell_type": "code",
      "execution_count": 4,
      "metadata": {
        "id": "FxaXl3MRoX1-"
      },
      "outputs": [],
      "source": [
        "# craete a histogram and count plot function\n",
        "def plot_histogram(*, data: pd.DataFrame, feature: str, text: str = \"\"):\n",
        "  \"\"\"This returns a Seaborn Histogram.\"\"\"\n",
        "  sns.histplot(data=data, x=feature)\n",
        "  plt.title(f\"Distribution of {feature!r} {text}\")\n",
        "  plt.tight_layout()\n",
        "  plt.show()\n",
        "\n",
        "def display_count(data: pd.DataFrame, feature: str, hue: tp.Union[None, str] = None, rotation: int = 90) ->None:\n",
        "  \"\"\"This is used to make a count plot of the specified categorical variable.\n",
        "  Params:\n",
        "\n",
        "  data: Pandas DF\n",
        "        The source DataFrame containing the variable.\n",
        "  feature: str\n",
        "        The numerical variable to plot.\n",
        "  rotation: int, default=90\n",
        "        The x-label ticks rotation in degrees.\n",
        "  hue: None or str, default=None\n",
        "        Should be something that can be interpreted by\n",
        "        :func:`color_palette`, or a dictionary mapping\n",
        "        hue levels to matplotlib colors.\n",
        "\n",
        "  Returns:\n",
        "\n",
        "  A Seaborn count plot\n",
        "    \"\"\"\n",
        "  fig, ax = plt.subplots(figsize=(10, 6))\n",
        "  sns.countplot(x=feature, data=data, hue=hue, ax=ax, palette=\"Paired\")\n",
        "  plt.xticks(rotation=rotation)\n",
        "  ax.set_xlabel(f\"{feature}\", size=13)\n",
        "  ax.set_title(f\"Frequency Distribution of {feature!r}\", size=15)\n",
        "  ax.grid(visible=False)\n",
        "  # Anotate the chart\n",
        "  for bar in ax.patches:\n",
        "    x_val = bar.get_x() + bar.get_width() / 2\n",
        "    y_val = bar.get_height() # y_pos\n",
        "    ax.annotate(\n",
        "        text = y_val, # y pos\n",
        "        xy=(x_val, y_val), # (x, y)\n",
        "        xytext=(0, 6), #text position\n",
        "        ha = \"center\", # horizontal alignment\n",
        "        va = \"center\", # vertical alignment\n",
        "        size=10, # text size\n",
        "        textcoords=\"offset points\",\n",
        "        )\n",
        "  fig.tight_layout()\n",
        "  plt.show()"
      ],
      "id": "FxaXl3MRoX1-"
    },
    {
      "cell_type": "code",
      "execution_count": 5,
      "metadata": {
        "colab": {
          "base_uri": "https://localhost:8080/"
        },
        "id": "zRd2BndZ0O8R",
        "outputId": "5228645a-e9d2-4000-df9c-4d849cb5a6c1"
      },
      "outputs": [
        {
          "output_type": "stream",
          "name": "stdout",
          "text": [
            "<class 'pandas.core.frame.DataFrame'>\n",
            "RangeIndex: 2240 entries, 0 to 2239\n",
            "Data columns (total 29 columns):\n",
            " #   Column               Non-Null Count  Dtype  \n",
            "---  ------               --------------  -----  \n",
            " 0   ID                   2240 non-null   int64  \n",
            " 1   Year_Birth           2240 non-null   int64  \n",
            " 2   Education            2240 non-null   object \n",
            " 3   Marital_Status       2240 non-null   object \n",
            " 4   Income               2216 non-null   float64\n",
            " 5   Kidhome              2240 non-null   int64  \n",
            " 6   Teenhome             2240 non-null   int64  \n",
            " 7   Dt_Customer          2240 non-null   object \n",
            " 8   Recency              2240 non-null   int64  \n",
            " 9   MntWines             2240 non-null   int64  \n",
            " 10  MntFruits            2240 non-null   int64  \n",
            " 11  MntMeatProducts      2240 non-null   int64  \n",
            " 12  MntFishProducts      2240 non-null   int64  \n",
            " 13  MntSweetProducts     2240 non-null   int64  \n",
            " 14  MntGoldProds         2240 non-null   int64  \n",
            " 15  NumDealsPurchases    2240 non-null   int64  \n",
            " 16  NumWebPurchases      2240 non-null   int64  \n",
            " 17  NumCatalogPurchases  2240 non-null   int64  \n",
            " 18  NumStorePurchases    2240 non-null   int64  \n",
            " 19  NumWebVisitsMonth    2240 non-null   int64  \n",
            " 20  AcceptedCmp3         2240 non-null   int64  \n",
            " 21  AcceptedCmp4         2240 non-null   int64  \n",
            " 22  AcceptedCmp5         2240 non-null   int64  \n",
            " 23  AcceptedCmp1         2240 non-null   int64  \n",
            " 24  AcceptedCmp2         2240 non-null   int64  \n",
            " 25  Complain             2240 non-null   int64  \n",
            " 26  Z_CostContact        2240 non-null   int64  \n",
            " 27  Z_Revenue            2240 non-null   int64  \n",
            " 28  Response             2240 non-null   int64  \n",
            "dtypes: float64(1), int64(25), object(3)\n",
            "memory usage: 507.6+ KB\n"
          ]
        }
      ],
      "source": [
        "# check data info\n",
        "df1.info()"
      ],
      "id": "zRd2BndZ0O8R"
    },
    {
      "cell_type": "code",
      "execution_count": 6,
      "metadata": {
        "colab": {
          "base_uri": "https://localhost:8080/"
        },
        "id": "a-cmP-4G0Ib_",
        "outputId": "6fdb839d-5e95-499d-9dda-59cfcdb82179"
      },
      "outputs": [
        {
          "output_type": "execute_result",
          "data": {
            "text/plain": [
              "ID                      0\n",
              "Year_Birth              0\n",
              "Education               0\n",
              "Marital_Status          0\n",
              "Income                 24\n",
              "Kidhome                 0\n",
              "Teenhome                0\n",
              "Dt_Customer             0\n",
              "Recency                 0\n",
              "MntWines                0\n",
              "MntFruits               0\n",
              "MntMeatProducts         0\n",
              "MntFishProducts         0\n",
              "MntSweetProducts        0\n",
              "MntGoldProds            0\n",
              "NumDealsPurchases       0\n",
              "NumWebPurchases         0\n",
              "NumCatalogPurchases     0\n",
              "NumStorePurchases       0\n",
              "NumWebVisitsMonth       0\n",
              "AcceptedCmp3            0\n",
              "AcceptedCmp4            0\n",
              "AcceptedCmp5            0\n",
              "AcceptedCmp1            0\n",
              "AcceptedCmp2            0\n",
              "Complain                0\n",
              "Z_CostContact           0\n",
              "Z_Revenue               0\n",
              "Response                0\n",
              "dtype: int64"
            ]
          },
          "metadata": {},
          "execution_count": 6
        }
      ],
      "source": [
        "# check for missing values \n",
        "df1.isna().sum()"
      ],
      "id": "a-cmP-4G0Ib_"
    },
    {
      "cell_type": "code",
      "execution_count": 7,
      "metadata": {
        "colab": {
          "base_uri": "https://localhost:8080/"
        },
        "id": "oknaiWjF0xno",
        "outputId": "31053530-dba8-4b5f-e88e-552863b57650"
      },
      "outputs": [
        {
          "output_type": "execute_result",
          "data": {
            "text/plain": [
              "0"
            ]
          },
          "metadata": {},
          "execution_count": 7
        }
      ],
      "source": [
        "# check for duplicates\n",
        "df1.duplicated().sum()"
      ],
      "id": "oknaiWjF0xno"
    },
    {
      "cell_type": "code",
      "execution_count": 8,
      "metadata": {
        "colab": {
          "base_uri": "https://localhost:8080/"
        },
        "id": "3E-0G-WuynV7",
        "outputId": "dedd9c5d-3017-429c-d91c-30630ff5ca8a"
      },
      "outputs": [
        {
          "output_type": "execute_result",
          "data": {
            "text/plain": [
              "((2240, 26), (2240, 3))"
            ]
          },
          "metadata": {},
          "execution_count": 8
        }
      ],
      "source": [
        "# seperate cat and num data\n",
        "num_data = df1.select_dtypes(include=[int, float])\n",
        "\n",
        "# cat data\n",
        "cat_data = df1.select_dtypes(include='O')\n",
        "\n",
        "# print both data\n",
        "num_data.shape, cat_data.shape"
      ],
      "id": "3E-0G-WuynV7"
    },
    {
      "cell_type": "code",
      "execution_count": 9,
      "metadata": {
        "colab": {
          "base_uri": "https://localhost:8080/"
        },
        "id": "YFn1qMk_IRDW",
        "outputId": "53f5f11a-bdcb-469f-962e-0f3260ec3e2b"
      },
      "outputs": [
        {
          "output_type": "execute_result",
          "data": {
            "text/plain": [
              "count      2216.000000\n",
              "mean      52247.251354\n",
              "std       25173.076661\n",
              "min        1730.000000\n",
              "25%       35303.000000\n",
              "50%       51381.500000\n",
              "75%       68522.000000\n",
              "max      666666.000000\n",
              "Name: Income, dtype: float64"
            ]
          },
          "metadata": {},
          "execution_count": 9
        }
      ],
      "source": [
        "\n",
        "# Analysing the Income \n",
        "df1.get(\"Income\").isna().sum()\n",
        "\n",
        "# checking the description\n",
        "df1.get(\"Income\").describe()"
      ],
      "id": "YFn1qMk_IRDW"
    },
    {
      "cell_type": "code",
      "execution_count": 10,
      "metadata": {
        "colab": {
          "base_uri": "https://localhost:8080/",
          "height": 297
        },
        "id": "alBlFmTZp2Bx",
        "outputId": "7448e3c7-4248-448b-b88f-987c4c950046"
      },
      "outputs": [
        {
          "output_type": "display_data",
          "data": {
            "text/plain": [
              "<Figure size 432x288 with 1 Axes>"
            ],
            "image/png": "[encoded data removed]"
          },
          "metadata": {
            "needs_background": "light"
          }
        }
      ],
      "source": [
        "# Analyse the Income variable through a plot\n",
        "plot_histogram(data=df1, feature=\"Income\")\n",
        "# Here it shows that there are bulk of values with variation from 0-100000, and there is an outlier value at the end"
      ],
      "id": "alBlFmTZp2Bx"
    },
    {
      "cell_type": "code",
      "execution_count": 11,
      "metadata": {
        "colab": {
          "base_uri": "https://localhost:8080/"
        },
        "id": "o_tzJtiKbXA7",
        "outputId": "22833828-1791-48ca-9f61-bc73a84c410a"
      },
      "outputs": [
        {
          "output_type": "execute_result",
          "data": {
            "text/plain": [
              "0"
            ]
          },
          "metadata": {},
          "execution_count": 11
        }
      ],
      "source": [
        "# Filling missing values\n",
        "df1 = df.copy()\n",
        "\n",
        "# Impute missing values\n",
        "median_income = df1[\"Income\"].median()\n",
        "# fill na\n",
        "df1[\"Income\"] = df1[\"Income\"].fillna(value=median_income)\n",
        "\n",
        "# Verify\n",
        "df1[\"Income\"].isna().sum()"
      ],
      "id": "o_tzJtiKbXA7"
    },
    {
      "cell_type": "code",
      "execution_count": 11,
      "metadata": {
        "id": "rZsfnOEerF4-"
      },
      "outputs": [],
      "source": [],
      "id": "rZsfnOEerF4-"
    },
    {
      "cell_type": "markdown",
      "metadata": {
        "id": "f3da9a91-96bf-4fb5-a0ee-2c13640367a5"
      },
      "source": [
        "## Qs 1\n",
        "* a) Find the average of all the total amount spent on products. Call this variable `Avg_amount`. \n",
        "* b) Convert the `Avg_amount` to deciles (0,1,2,...,9) by creating a new variable, `Avg_amount(weights)` such that the higher the Avg_score, the higher the weight.\n",
        "\n",
        "    * **COMPULSORY**: Validate your resulting by running:\n",
        "\n",
        "```python\n",
        "df[[\"Total_amount\", \"Avg_amount\", \"Avg_amount(weights)\"]].sample(n=5, random_state=2)\n",
        "```"
      ],
      "id": "f3da9a91-96bf-4fb5-a0ee-2c13640367a5"
    },
    {
      "cell_type": "code",
      "execution_count": 18,
      "metadata": {
        "colab": {
          "base_uri": "https://localhost:8080/",
          "height": 206
        },
        "id": "3WtSxgcUxoUc",
        "outputId": "fd4bd83b-d654-47a3-d89f-dae6b5338f03"
      },
      "outputs": [
        {
          "output_type": "execute_result",
          "data": {
            "text/plain": [
              "   MntWines  MntFruits  MntMeatProducts  MntFishProducts  MntSweetProducts  \\\n",
              "0       635         88              546              172                88   \n",
              "1        11          1                6                2                 1   \n",
              "2       426         49              127              111                21   \n",
              "3        11          4               20               10                 3   \n",
              "4       173         43              118               46                27   \n",
              "\n",
              "   MntGoldProds  \n",
              "0            88  \n",
              "1             6  \n",
              "2            42  \n",
              "3             5  \n",
              "4            15  "
            ],
            "text/html": [
              "\n",
              "  <div id=\"df-1be91977-7dca-4a79-8d56-b30afb8737bb\">\n",
              "    <div class=\"colab-df-container\">\n",
              "      <div>\n",
              "<style scoped>\n",
              "    .dataframe tbody tr th:only-of-type {\n",
              "        vertical-align: middle;\n",
              "    }\n",
              "\n",
              "    .dataframe tbody tr th {\n",
              "        vertical-align: top;\n",
              "    }\n",
              "\n",
              "    .dataframe thead th {\n",
              "        text-align: right;\n",
              "    }\n",
              "</style>\n",
              "<table border=\"1\" class=\"dataframe\">\n",
              "  <thead>\n",
              "    <tr style=\"text-align: right;\">\n",
              "      <th></th>\n",
              "      <th>MntWines</th>\n",
              "      <th>MntFruits</th>\n",
              "      <th>MntMeatProducts</th>\n",
              "      <th>MntFishProducts</th>\n",
              "      <th>MntSweetProducts</th>\n",
              "      <th>MntGoldProds</th>\n",
              "    </tr>\n",
              "  </thead>\n",
              "  <tbody>\n",
              "    <tr>\n",
              "      <th>0</th>\n",
              "      <td>635</td>\n",
              "      <td>88</td>\n",
              "      <td>546</td>\n",
              "      <td>172</td>\n",
              "      <td>88</td>\n",
              "      <td>88</td>\n",
              "    </tr>\n",
              "    <tr>\n",
              "      <th>1</th>\n",
              "      <td>11</td>\n",
              "      <td>1</td>\n",
              "      <td>6</td>\n",
              "      <td>2</td>\n",
              "      <td>1</td>\n",
              "      <td>6</td>\n",
              "    </tr>\n",
              "    <tr>\n",
              "      <th>2</th>\n",
              "      <td>426</td>\n",
              "      <td>49</td>\n",
              "      <td>127</td>\n",
              "      <td>111</td>\n",
              "      <td>21</td>\n",
              "      <td>42</td>\n",
              "    </tr>\n",
              "    <tr>\n",
              "      <th>3</th>\n",
              "      <td>11</td>\n",
              "      <td>4</td>\n",
              "      <td>20</td>\n",
              "      <td>10</td>\n",
              "      <td>3</td>\n",
              "      <td>5</td>\n",
              "    </tr>\n",
              "    <tr>\n",
              "      <th>4</th>\n",
              "      <td>173</td>\n",
              "      <td>43</td>\n",
              "      <td>118</td>\n",
              "      <td>46</td>\n",
              "      <td>27</td>\n",
              "      <td>15</td>\n",
              "    </tr>\n",
              "  </tbody>\n",
              "</table>\n",
              "</div>\n",
              "      <button class=\"colab-df-convert\" onclick=\"convertToInteractive('df-1be91977-7dca-4a79-8d56-b30afb8737bb')\"\n",
              "              title=\"Convert this dataframe to an interactive table.\"\n",
              "              style=\"display:none;\">\n",
              "        \n",
              "  <svg xmlns=\"http://www.w3.org/2000/svg\" height=\"24px\"viewBox=\"0 0 24 24\"\n",
              "       width=\"24px\">\n",
              "    <path d=\"M0 0h24v24H0V0z\" fill=\"none\"/>\n",
              "    <path d=\"M18.56 5.44l.94 2.06.94-2.06 2.06-.94-2.06-.94-.94-2.06-.94 2.06-2.06.94zm-11 1L8.5 8.5l.94-2.06 2.06-.94-2.06-.94L8.5 2.5l-.94 2.06-2.06.94zm10 10l.94 2.06.94-2.06 2.06-.94-2.06-.94-.94-2.06-.94 2.06-2.06.94z\"/><path d=\"M17.41 7.96l-1.37-1.37c-.4-.4-.92-.59-1.43-.59-.52 0-1.04.2-1.43.59L10.3 9.45l-7.72 7.72c-.78.78-.78 2.05 0 2.83L4 21.41c.39.39.9.59 1.41.59.51 0 1.02-.2 1.41-.59l7.78-7.78 2.81-2.81c.8-.78.8-2.07 0-2.86zM5.41 20L4 18.59l7.72-7.72 1.47 1.35L5.41 20z\"/>\n",
              "  </svg>\n",
              "      </button>\n",
              "      \n",
              "  <style>\n",
              "    .colab-df-container {\n",
              "      display:flex;\n",
              "      flex-wrap:wrap;\n",
              "      gap: 12px;\n",
              "    }\n",
              "\n",
              "    .colab-df-convert {\n",
              "      background-color: #E8F0FE;\n",
              "      border: none;\n",
              "      border-radius: 50%;\n",
              "      cursor: pointer;\n",
              "      display: none;\n",
              "      fill: #1967D2;\n",
              "      height: 32px;\n",
              "      padding: 0 0 0 0;\n",
              "      width: 32px;\n",
              "    }\n",
              "\n",
              "    .colab-df-convert:hover {\n",
              "      background-color: #E2EBFA;\n",
              "      box-shadow: 0px 1px 2px rgba(60, 64, 67, 0.3), 0px 1px 3px 1px rgba(60, 64, 67, 0.15);\n",
              "      fill: #174EA6;\n",
              "    }\n",
              "\n",
              "    [theme=dark] .colab-df-convert {\n",
              "      background-color: #3B4455;\n",
              "      fill: #D2E3FC;\n",
              "    }\n",
              "\n",
              "    [theme=dark] .colab-df-convert:hover {\n",
              "      background-color: #434B5C;\n",
              "      box-shadow: 0px 1px 3px 1px rgba(0, 0, 0, 0.15);\n",
              "      filter: drop-shadow(0px 1px 2px rgba(0, 0, 0, 0.3));\n",
              "      fill: #FFFFFF;\n",
              "    }\n",
              "  </style>\n",
              "\n",
              "      <script>\n",
              "        const buttonEl =\n",
              "          document.querySelector('#df-1be91977-7dca-4a79-8d56-b30afb8737bb button.colab-df-convert');\n",
              "        buttonEl.style.display =\n",
              "          google.colab.kernel.accessAllowed ? 'block' : 'none';\n",
              "\n",
              "        async function convertToInteractive(key) {\n",
              "          const element = document.querySelector('#df-1be91977-7dca-4a79-8d56-b30afb8737bb');\n",
              "          const dataTable =\n",
              "            await google.colab.kernel.invokeFunction('convertToInteractive',\n",
              "                                                     [key], {});\n",
              "          if (!dataTable) return;\n",
              "\n",
              "          const docLinkHtml = 'Like what you see? Visit the ' +\n",
              "            '<a target=\"_blank\" href=https://colab.research.google.com/notebooks/data_table.ipynb>data table notebook</a>'\n",
              "            + ' to learn more about interactive tables.';\n",
              "          element.innerHTML = '';\n",
              "          dataTable['output_type'] = 'display_data';\n",
              "          await google.colab.output.renderOutput(dataTable, element);\n",
              "          const docLink = document.createElement('div');\n",
              "          docLink.innerHTML = docLinkHtml;\n",
              "          element.appendChild(docLink);\n",
              "        }\n",
              "      </script>\n",
              "    </div>\n",
              "  </div>\n",
              "  "
            ]
          },
          "metadata": {},
          "execution_count": 18
        }
      ],
      "source": [
        "# create a list comprehension to filter only the product amounts in the numeric data\n",
        "products = [var for var in df1.columns if \"Mnt\" in var]\n",
        "df1[products].head()"
      ],
      "id": "3WtSxgcUxoUc"
    },
    {
      "cell_type": "code",
      "execution_count": 19,
      "metadata": {
        "colab": {
          "base_uri": "https://localhost:8080/"
        },
        "id": "85748e20-5fdf-4a91-94a7-fe85678d411b",
        "outputId": "014be2c0-1337-42a3-bb12-7b125e48a346"
      },
      "outputs": [
        {
          "output_type": "stream",
          "name": "stdout",
          "text": [
            "Total Product Amount is:\n",
            " 0       1617\n",
            "1         27\n",
            "2        776\n",
            "3         53\n",
            "4        422\n",
            "        ... \n",
            "2235    1341\n",
            "2236     444\n",
            "2237    1241\n",
            "2238     843\n",
            "2239     172\n",
            "Name: Total_amt, Length: 2240, dtype: int64\n",
            "\n",
            "Average Amount is:\n",
            " 0       269.50\n",
            "1         4.50\n",
            "2       129.33\n",
            "3         8.83\n",
            "4        70.33\n",
            "         ...  \n",
            "2235    223.50\n",
            "2236     74.00\n",
            "2237    206.83\n",
            "2238    140.50\n",
            "2239     28.67\n",
            "Name: Avg_amt, Length: 2240, dtype: float64\n"
          ]
        }
      ],
      "source": [
        "# 1a Find the average of all the total amount spent on products. Call this variable Avg_amount.\n",
        "# get the total_amt of products\n",
        "df1[\"Total_amt\"] = df1[products].sum(axis=1)\n",
        "print(\"Total Product Amount is:\\n\", df1[\"Total_amt\"])\n",
        "print()\n",
        "# getting average of total product amount\n",
        "df1[\"Avg_amt\"] = np.round(df1[products].mean(axis=1), 2)\n",
        "print(\"Average Amount is:\\n\", df1[\"Avg_amt\"])"
      ],
      "id": "85748e20-5fdf-4a91-94a7-fe85678d411b"
    },
    {
      "cell_type": "code",
      "execution_count": 22,
      "metadata": {
        "colab": {
          "base_uri": "https://localhost:8080/",
          "height": 145
        },
        "id": "1K4l6lwr0g90",
        "outputId": "2f686957-b3af-4857-c8f6-088687b558e7"
      },
      "outputs": [
        {
          "output_type": "execute_result",
          "data": {
            "text/plain": [
              "     ID  Year_Birth   Education Marital_Status   Income  Kidhome  Teenhome  \\\n",
              "0  5524        1957  Graduation         Single  58138.0        0         0   \n",
              "\n",
              "  Dt_Customer  Recency  MntWines  MntFruits  MntMeatProducts  MntFishProducts  \\\n",
              "0  04-09-2012       58       635         88              546              172   \n",
              "\n",
              "   MntSweetProducts  MntGoldProds  NumDealsPurchases  NumWebPurchases  \\\n",
              "0                88            88                  3                8   \n",
              "\n",
              "   NumCatalogPurchases  NumStorePurchases  NumWebVisitsMonth  AcceptedCmp3  \\\n",
              "0                   10                  4                  7             0   \n",
              "\n",
              "   AcceptedCmp4  AcceptedCmp5  AcceptedCmp1  AcceptedCmp2  Complain  \\\n",
              "0             0             0             0             0         0   \n",
              "\n",
              "   Z_CostContact  Z_Revenue  Response  Total_amt  Avg_amt Avg_amount(weights)  \n",
              "0              3         11         1       1617    269.5   (256.033, 420.83]  "
            ],
            "text/html": [
              "\n",
              "  <div id=\"df-8dd305a8-cb70-4e62-ab7e-24456ea4bf86\">\n",
              "    <div class=\"colab-df-container\">\n",
              "      <div>\n",
              "<style scoped>\n",
              "    .dataframe tbody tr th:only-of-type {\n",
              "        vertical-align: middle;\n",
              "    }\n",
              "\n",
              "    .dataframe tbody tr th {\n",
              "        vertical-align: top;\n",
              "    }\n",
              "\n",
              "    .dataframe thead th {\n",
              "        text-align: right;\n",
              "    }\n",
              "</style>\n",
              "<table border=\"1\" class=\"dataframe\">\n",
              "  <thead>\n",
              "    <tr style=\"text-align: right;\">\n",
              "      <th></th>\n",
              "      <th>ID</th>\n",
              "      <th>Year_Birth</th>\n",
              "      <th>Education</th>\n",
              "      <th>Marital_Status</th>\n",
              "      <th>Income</th>\n",
              "      <th>Kidhome</th>\n",
              "      <th>Teenhome</th>\n",
              "      <th>Dt_Customer</th>\n",
              "      <th>Recency</th>\n",
              "      <th>MntWines</th>\n",
              "      <th>MntFruits</th>\n",
              "      <th>MntMeatProducts</th>\n",
              "      <th>MntFishProducts</th>\n",
              "      <th>MntSweetProducts</th>\n",
              "      <th>MntGoldProds</th>\n",
              "      <th>NumDealsPurchases</th>\n",
              "      <th>NumWebPurchases</th>\n",
              "      <th>NumCatalogPurchases</th>\n",
              "      <th>NumStorePurchases</th>\n",
              "      <th>NumWebVisitsMonth</th>\n",
              "      <th>AcceptedCmp3</th>\n",
              "      <th>AcceptedCmp4</th>\n",
              "      <th>AcceptedCmp5</th>\n",
              "      <th>AcceptedCmp1</th>\n",
              "      <th>AcceptedCmp2</th>\n",
              "      <th>Complain</th>\n",
              "      <th>Z_CostContact</th>\n",
              "      <th>Z_Revenue</th>\n",
              "      <th>Response</th>\n",
              "      <th>Total_amt</th>\n",
              "      <th>Avg_amt</th>\n",
              "      <th>Avg_amount(weights)</th>\n",
              "    </tr>\n",
              "  </thead>\n",
              "  <tbody>\n",
              "    <tr>\n",
              "      <th>0</th>\n",
              "      <td>5524</td>\n",
              "      <td>1957</td>\n",
              "      <td>Graduation</td>\n",
              "      <td>Single</td>\n",
              "      <td>58138.0</td>\n",
              "      <td>0</td>\n",
              "      <td>0</td>\n",
              "      <td>04-09-2012</td>\n",
              "      <td>58</td>\n",
              "      <td>635</td>\n",
              "      <td>88</td>\n",
              "      <td>546</td>\n",
              "      <td>172</td>\n",
              "      <td>88</td>\n",
              "      <td>88</td>\n",
              "      <td>3</td>\n",
              "      <td>8</td>\n",
              "      <td>10</td>\n",
              "      <td>4</td>\n",
              "      <td>7</td>\n",
              "      <td>0</td>\n",
              "      <td>0</td>\n",
              "      <td>0</td>\n",
              "      <td>0</td>\n",
              "      <td>0</td>\n",
              "      <td>0</td>\n",
              "      <td>3</td>\n",
              "      <td>11</td>\n",
              "      <td>1</td>\n",
              "      <td>1617</td>\n",
              "      <td>269.5</td>\n",
              "      <td>(256.033, 420.83]</td>\n",
              "    </tr>\n",
              "  </tbody>\n",
              "</table>\n",
              "</div>\n",
              "      <button class=\"colab-df-convert\" onclick=\"convertToInteractive('df-8dd305a8-cb70-4e62-ab7e-24456ea4bf86')\"\n",
              "              title=\"Convert this dataframe to an interactive table.\"\n",
              "              style=\"display:none;\">\n",
              "        \n",
              "  <svg xmlns=\"http://www.w3.org/2000/svg\" height=\"24px\"viewBox=\"0 0 24 24\"\n",
              "       width=\"24px\">\n",
              "    <path d=\"M0 0h24v24H0V0z\" fill=\"none\"/>\n",
              "    <path d=\"M18.56 5.44l.94 2.06.94-2.06 2.06-.94-2.06-.94-.94-2.06-.94 2.06-2.06.94zm-11 1L8.5 8.5l.94-2.06 2.06-.94-2.06-.94L8.5 2.5l-.94 2.06-2.06.94zm10 10l.94 2.06.94-2.06 2.06-.94-2.06-.94-.94-2.06-.94 2.06-2.06.94z\"/><path d=\"M17.41 7.96l-1.37-1.37c-.4-.4-.92-.59-1.43-.59-.52 0-1.04.2-1.43.59L10.3 9.45l-7.72 7.72c-.78.78-.78 2.05 0 2.83L4 21.41c.39.39.9.59 1.41.59.51 0 1.02-.2 1.41-.59l7.78-7.78 2.81-2.81c.8-.78.8-2.07 0-2.86zM5.41 20L4 18.59l7.72-7.72 1.47 1.35L5.41 20z\"/>\n",
              "  </svg>\n",
              "      </button>\n",
              "      \n",
              "  <style>\n",
              "    .colab-df-container {\n",
              "      display:flex;\n",
              "      flex-wrap:wrap;\n",
              "      gap: 12px;\n",
              "    }\n",
              "\n",
              "    .colab-df-convert {\n",
              "      background-color: #E8F0FE;\n",
              "      border: none;\n",
              "      border-radius: 50%;\n",
              "      cursor: pointer;\n",
              "      display: none;\n",
              "      fill: #1967D2;\n",
              "      height: 32px;\n",
              "      padding: 0 0 0 0;\n",
              "      width: 32px;\n",
              "    }\n",
              "\n",
              "    .colab-df-convert:hover {\n",
              "      background-color: #E2EBFA;\n",
              "      box-shadow: 0px 1px 2px rgba(60, 64, 67, 0.3), 0px 1px 3px 1px rgba(60, 64, 67, 0.15);\n",
              "      fill: #174EA6;\n",
              "    }\n",
              "\n",
              "    [theme=dark] .colab-df-convert {\n",
              "      background-color: #3B4455;\n",
              "      fill: #D2E3FC;\n",
              "    }\n",
              "\n",
              "    [theme=dark] .colab-df-convert:hover {\n",
              "      background-color: #434B5C;\n",
              "      box-shadow: 0px 1px 3px 1px rgba(0, 0, 0, 0.15);\n",
              "      filter: drop-shadow(0px 1px 2px rgba(0, 0, 0, 0.3));\n",
              "      fill: #FFFFFF;\n",
              "    }\n",
              "  </style>\n",
              "\n",
              "      <script>\n",
              "        const buttonEl =\n",
              "          document.querySelector('#df-8dd305a8-cb70-4e62-ab7e-24456ea4bf86 button.colab-df-convert');\n",
              "        buttonEl.style.display =\n",
              "          google.colab.kernel.accessAllowed ? 'block' : 'none';\n",
              "\n",
              "        async function convertToInteractive(key) {\n",
              "          const element = document.querySelector('#df-8dd305a8-cb70-4e62-ab7e-24456ea4bf86');\n",
              "          const dataTable =\n",
              "            await google.colab.kernel.invokeFunction('convertToInteractive',\n",
              "                                                     [key], {});\n",
              "          if (!dataTable) return;\n",
              "\n",
              "          const docLinkHtml = 'Like what you see? Visit the ' +\n",
              "            '<a target=\"_blank\" href=https://colab.research.google.com/notebooks/data_table.ipynb>data table notebook</a>'\n",
              "            + ' to learn more about interactive tables.';\n",
              "          element.innerHTML = '';\n",
              "          dataTable['output_type'] = 'display_data';\n",
              "          await google.colab.output.renderOutput(dataTable, element);\n",
              "          const docLink = document.createElement('div');\n",
              "          docLink.innerHTML = docLinkHtml;\n",
              "          element.appendChild(docLink);\n",
              "        }\n",
              "      </script>\n",
              "    </div>\n",
              "  </div>\n",
              "  "
            ]
          },
          "metadata": {},
          "execution_count": 22
        }
      ],
      "source": [
        "df1.head(1)"
      ],
      "id": "1K4l6lwr0g90"
    },
    {
      "cell_type": "code",
      "execution_count": 23,
      "metadata": {
        "colab": {
          "base_uri": "https://localhost:8080/",
          "height": 280
        },
        "id": "80b31fb5-21dc-4735-ac26-214f1a0f2f37",
        "outputId": "af7c8395-642f-4f58-bc69-3893942373da",
        "scrolled": true
      },
      "outputs": [
        {
          "output_type": "display_data",
          "data": {
            "text/plain": [
              "<Figure size 432x288 with 1 Axes>"
            ],
            "image/png": "[encoded data removed]"
          },
          "metadata": {
            "needs_background": "light"
          }
        }
      ],
      "source": [
        "# 1b Convert the Avg_amount to deciles (0,1,2,...,9) by creating a new variable,\n",
        "# Avg_amount(weights) such that the higher the Avg_score, the higher the weight.\n",
        "Avg_score = df1[\"Avg_amt\"]\n",
        "deciles = 10 # No of deciles\n",
        "# convert\n",
        "df1[\"Avg_amount(weights)\"] = pd.qcut(x=Avg_score, q=deciles, duplicates=\"drop\").astype(str)\n",
        "sns.scatterplot(data=df1, x=\"Avg_amt\", y=\"Avg_amount(weights)\");"
      ],
      "id": "80b31fb5-21dc-4735-ac26-214f1a0f2f37"
    },
    {
      "cell_type": "code",
      "source": [
        "# Getting a value counts to know how frequent each group appeared\n",
        "df1[\"Avg_amount(weights)\"].value_counts(ascending=False)"
      ],
      "metadata": {
        "colab": {
          "base_uri": "https://localhost:8080/"
        },
        "id": "06NqSYlhF4Dm",
        "outputId": "d8b0f348-6106-41c7-8ded-9169a08abc85"
      },
      "id": "06NqSYlhF4Dm",
      "execution_count": 27,
      "outputs": [
        {
          "output_type": "execute_result",
          "data": {
            "text/plain": [
              "(5.814, 9.17]        228\n",
              "(105.898, 154.33]    225\n",
              "(154.33, 195.67]     225\n",
              "(32.432, 66.0]       225\n",
              "(256.033, 420.83]    224\n",
              "(0.829, 5.814]       224\n",
              "(9.17, 15.17]        224\n",
              "(66.0, 105.898]      223\n",
              "(195.67, 256.033]    222\n",
              "(15.17, 32.432]      220\n",
              "Name: Avg_amount(weights), dtype: int64"
            ]
          },
          "metadata": {},
          "execution_count": 27
        }
      ]
    },
    {
      "cell_type": "code",
      "execution_count": null,
      "metadata": {
        "colab": {
          "base_uri": "https://localhost:8080/",
          "height": 206
        },
        "id": "0da54157-0075-452f-9c79-832bba4969f3",
        "outputId": "66a0f18d-76cf-475e-a5ba-0466ba522061"
      },
      "outputs": [
        {
          "output_type": "execute_result",
          "data": {
            "text/plain": [
              "      Total_amt  Avg_amt Avg_amount(weights)\n",
              "2019         22     3.67      (0.829, 5.814]\n",
              "2053         71    11.83       (9.17, 15.17]\n",
              "1600        562    93.67     (66.0, 105.898]\n",
              "335         946   157.67    (154.33, 195.67]\n",
              "1891       2069   344.83   (256.033, 420.83]"
            ],
            "text/html": [
              "\n",
              "  <div id=\"df-15076ed8-e777-4f30-8687-e5924180cb5a\">\n",
              "    <div class=\"colab-df-container\">\n",
              "      <div>\n",
              "<style scoped>\n",
              "    .dataframe tbody tr th:only-of-type {\n",
              "        vertical-align: middle;\n",
              "    }\n",
              "\n",
              "    .dataframe tbody tr th {\n",
              "        vertical-align: top;\n",
              "    }\n",
              "\n",
              "    .dataframe thead th {\n",
              "        text-align: right;\n",
              "    }\n",
              "</style>\n",
              "<table border=\"1\" class=\"dataframe\">\n",
              "  <thead>\n",
              "    <tr style=\"text-align: right;\">\n",
              "      <th></th>\n",
              "      <th>Total_amt</th>\n",
              "      <th>Avg_amt</th>\n",
              "      <th>Avg_amount(weights)</th>\n",
              "    </tr>\n",
              "  </thead>\n",
              "  <tbody>\n",
              "    <tr>\n",
              "      <th>2019</th>\n",
              "      <td>22</td>\n",
              "      <td>3.67</td>\n",
              "      <td>(0.829, 5.814]</td>\n",
              "    </tr>\n",
              "    <tr>\n",
              "      <th>2053</th>\n",
              "      <td>71</td>\n",
              "      <td>11.83</td>\n",
              "      <td>(9.17, 15.17]</td>\n",
              "    </tr>\n",
              "    <tr>\n",
              "      <th>1600</th>\n",
              "      <td>562</td>\n",
              "      <td>93.67</td>\n",
              "      <td>(66.0, 105.898]</td>\n",
              "    </tr>\n",
              "    <tr>\n",
              "      <th>335</th>\n",
              "      <td>946</td>\n",
              "      <td>157.67</td>\n",
              "      <td>(154.33, 195.67]</td>\n",
              "    </tr>\n",
              "    <tr>\n",
              "      <th>1891</th>\n",
              "      <td>2069</td>\n",
              "      <td>344.83</td>\n",
              "      <td>(256.033, 420.83]</td>\n",
              "    </tr>\n",
              "  </tbody>\n",
              "</table>\n",
              "</div>\n",
              "      <button class=\"colab-df-convert\" onclick=\"convertToInteractive('df-15076ed8-e777-4f30-8687-e5924180cb5a')\"\n",
              "              title=\"Convert this dataframe to an interactive table.\"\n",
              "              style=\"display:none;\">\n",
              "        \n",
              "  <svg xmlns=\"http://www.w3.org/2000/svg\" height=\"24px\"viewBox=\"0 0 24 24\"\n",
              "       width=\"24px\">\n",
              "    <path d=\"M0 0h24v24H0V0z\" fill=\"none\"/>\n",
              "    <path d=\"M18.56 5.44l.94 2.06.94-2.06 2.06-.94-2.06-.94-.94-2.06-.94 2.06-2.06.94zm-11 1L8.5 8.5l.94-2.06 2.06-.94-2.06-.94L8.5 2.5l-.94 2.06-2.06.94zm10 10l.94 2.06.94-2.06 2.06-.94-2.06-.94-.94-2.06-.94 2.06-2.06.94z\"/><path d=\"M17.41 7.96l-1.37-1.37c-.4-.4-.92-.59-1.43-.59-.52 0-1.04.2-1.43.59L10.3 9.45l-7.72 7.72c-.78.78-.78 2.05 0 2.83L4 21.41c.39.39.9.59 1.41.59.51 0 1.02-.2 1.41-.59l7.78-7.78 2.81-2.81c.8-.78.8-2.07 0-2.86zM5.41 20L4 18.59l7.72-7.72 1.47 1.35L5.41 20z\"/>\n",
              "  </svg>\n",
              "      </button>\n",
              "      \n",
              "  <style>\n",
              "    .colab-df-container {\n",
              "      display:flex;\n",
              "      flex-wrap:wrap;\n",
              "      gap: 12px;\n",
              "    }\n",
              "\n",
              "    .colab-df-convert {\n",
              "      background-color: #E8F0FE;\n",
              "      border: none;\n",
              "      border-radius: 50%;\n",
              "      cursor: pointer;\n",
              "      display: none;\n",
              "      fill: #1967D2;\n",
              "      height: 32px;\n",
              "      padding: 0 0 0 0;\n",
              "      width: 32px;\n",
              "    }\n",
              "\n",
              "    .colab-df-convert:hover {\n",
              "      background-color: #E2EBFA;\n",
              "      box-shadow: 0px 1px 2px rgba(60, 64, 67, 0.3), 0px 1px 3px 1px rgba(60, 64, 67, 0.15);\n",
              "      fill: #174EA6;\n",
              "    }\n",
              "\n",
              "    [theme=dark] .colab-df-convert {\n",
              "      background-color: #3B4455;\n",
              "      fill: #D2E3FC;\n",
              "    }\n",
              "\n",
              "    [theme=dark] .colab-df-convert:hover {\n",
              "      background-color: #434B5C;\n",
              "      box-shadow: 0px 1px 3px 1px rgba(0, 0, 0, 0.15);\n",
              "      filter: drop-shadow(0px 1px 2px rgba(0, 0, 0, 0.3));\n",
              "      fill: #FFFFFF;\n",
              "    }\n",
              "  </style>\n",
              "\n",
              "      <script>\n",
              "        const buttonEl =\n",
              "          document.querySelector('#df-15076ed8-e777-4f30-8687-e5924180cb5a button.colab-df-convert');\n",
              "        buttonEl.style.display =\n",
              "          google.colab.kernel.accessAllowed ? 'block' : 'none';\n",
              "\n",
              "        async function convertToInteractive(key) {\n",
              "          const element = document.querySelector('#df-15076ed8-e777-4f30-8687-e5924180cb5a');\n",
              "          const dataTable =\n",
              "            await google.colab.kernel.invokeFunction('convertToInteractive',\n",
              "                                                     [key], {});\n",
              "          if (!dataTable) return;\n",
              "\n",
              "          const docLinkHtml = 'Like what you see? Visit the ' +\n",
              "            '<a target=\"_blank\" href=https://colab.research.google.com/notebooks/data_table.ipynb>data table notebook</a>'\n",
              "            + ' to learn more about interactive tables.';\n",
              "          element.innerHTML = '';\n",
              "          dataTable['output_type'] = 'display_data';\n",
              "          await google.colab.output.renderOutput(dataTable, element);\n",
              "          const docLink = document.createElement('div');\n",
              "          docLink.innerHTML = docLinkHtml;\n",
              "          element.appendChild(docLink);\n",
              "        }\n",
              "      </script>\n",
              "    </div>\n",
              "  </div>\n",
              "  "
            ]
          },
          "metadata": {},
          "execution_count": 209
        }
      ],
      "source": [
        "df1[[\"Total_amt\", \"Avg_amt\", \"Avg_amount(weights)\"]].sample(n=5, random_state=2).sort_values(ascending=True, by=\"Avg_amt\")"
      ],
      "id": "0da54157-0075-452f-9c79-832bba4969f3"
    },
    {
      "cell_type": "markdown",
      "metadata": {
        "id": "7a694813-9c95-479a-a12e-3577c1b9d497"
      },
      "source": [
        "## Qs 2. \n",
        "* a) Calculate the percentage of the customer's Income spent on purchasing products.\n",
        "    \n",
        "    * **COMPULSORY**: Validate your resulting by running:\n",
        "\n",
        "```python\n",
        "df[[\"Total_amount\", \"Avg_amount\", \"Avg_amount(weights)\"]].sample(n=5, random_state=2)\n",
        "```\n",
        "\n",
        "* b) Create a pie chart showing the total amount spent by the customers grouped by their `Marital_status`\n",
        "    Note: Any customer that is not ***single***, ***together***, ***married*** or ***divorced*** should be considered as **others**."
      ],
      "id": "7a694813-9c95-479a-a12e-3577c1b9d497"
    },
    {
      "cell_type": "code",
      "execution_count": 28,
      "metadata": {
        "colab": {
          "base_uri": "https://localhost:8080/"
        },
        "id": "5712c2ec-da5b-4dd8-b37e-7fdb0ba7927c",
        "outputId": "94765bae-40fb-49a9-b5ea-76a1ea9b1b08",
        "scrolled": true
      },
      "outputs": [
        {
          "output_type": "execute_result",
          "data": {
            "text/plain": [
              "0       2.781313\n",
              "1       0.058260\n",
              "2       1.083602\n",
              "3       0.198904\n",
              "4       0.723929\n",
              "          ...   \n",
              "2235    2.190353\n",
              "2236    0.693598\n",
              "2237    2.177919\n",
              "2238    1.217416\n",
              "2239    0.325332\n",
              "Name: Income_percent, Length: 2240, dtype: float64"
            ]
          },
          "metadata": {},
          "execution_count": 28
        }
      ],
      "source": [
        "# 2i Calculate the percentage of the customer's Income spent on purchasing products.\n",
        "# cal. percentage of customers income\n",
        "df1[\"Income_percent\"] = (df1[\"Total_amt\"]/df1[\"Income\"])* 100\n",
        "df1[\"Income_percent\"] "
      ],
      "id": "5712c2ec-da5b-4dd8-b37e-7fdb0ba7927c"
    },
    {
      "cell_type": "code",
      "execution_count": 30,
      "metadata": {
        "colab": {
          "base_uri": "https://localhost:8080/"
        },
        "id": "f6b0870b-5e9b-4e0a-aacd-953c0618a59b",
        "outputId": "1991b2d4-b1f4-445d-ec9d-256fba845c4f"
      },
      "outputs": [
        {
          "output_type": "execute_result",
          "data": {
            "text/plain": [
              "array(['Single', 'Together', 'Married', 'Divorced', 'Others'],\n",
              "      dtype=object)"
            ]
          },
          "metadata": {},
          "execution_count": 30
        }
      ],
      "source": [
        "# 2b Create a pie chart showing the total amount spent by the customers grouped by their Marital_status Note: Any customer that is not single, together, married or divorced should be considered as others.\n",
        "# grouped data\n",
        "# using a list comprehension and apply, filter the marital status\n",
        "df1[\"Marital_Status\"] = df1[\"Marital_Status\"].apply(lambda x: x if x==\"Single\" or x==\"Together\" or x==\"Married\" or x==\"Divorced\" else \"Others\")\n",
        "df1[\"Marital_Status\"].unique()"
      ],
      "id": "f6b0870b-5e9b-4e0a-aacd-953c0618a59b"
    },
    {
      "cell_type": "code",
      "execution_count": null,
      "metadata": {
        "colab": {
          "base_uri": "https://localhost:8080/",
          "height": 303
        },
        "id": "015e0881-f01e-4c25-8b03-197bcb8f622b",
        "outputId": "67e1c019-9d53-4586-d056-92e69f6a123f",
        "scrolled": true
      },
      "outputs": [
        {
          "output_type": "display_data",
          "data": {
            "text/plain": [
              "<Figure size 504x360 with 1 Axes>"
            ],
            "image/png": "[encoded data removed]"
          },
          "metadata": {}
        }
      ],
      "source": [
        "# 2b A groupby\n",
        "\n",
        "colors = [\"Aqua\", \"DimGrey\", \"Blue\", \"Green\", \"Gold\"]\n",
        "df1_grouped = df1.groupby(by=\"Marital_Status\")[\"Total_amt\"].sum().plot.pie(figsize=(7,5), colors=colors, autopct=\"%1.2f%%\", shadow=True);"
      ],
      "id": "015e0881-f01e-4c25-8b03-197bcb8f622b"
    },
    {
      "cell_type": "code",
      "source": [
        "# getting a scatterplot to check relationship between \"Total_amt\" & \"Income\"\n",
        "\n",
        "# plot a graph, that creates a 'FacetGrid', and passed my data to it,\n",
        "# by grouping them into their 'Marital Status' by their \"Income\" and \"Total_amont\"\n",
        "grid = sns.FacetGrid(df1, col=\"Marital_Status\", hue=\"Marital_Status\", col_wrap=5)\n",
        "grid.map(sns.scatterplot, \"Income\", \"Total_amt\")\n",
        "grid.add_legend()\n",
        "plt.show()\n",
        "\n",
        "# Here there is slight differences accross the five(5) categories all within the range of (0 - 200000)\n",
        "# Plotting \"Income_percent\" rather than \"Income\", shows that, Income data is more spread, and the percent is slim"
      ],
      "metadata": {
        "colab": {
          "base_uri": "https://localhost:8080/",
          "height": 150
        },
        "id": "fwNwp12fLRWr",
        "outputId": "b3768bce-11a8-47da-c3f1-4df6fec8f36b"
      },
      "id": "fwNwp12fLRWr",
      "execution_count": 33,
      "outputs": [
        {
          "output_type": "display_data",
          "data": {
            "text/plain": [
              "<Figure size 1160.38x216 with 5 Axes>"
            ],
            "image/png": "[encoded data removed]"
          },
          "metadata": {
            "needs_background": "light"
          }
        }
      ]
    },
    {
      "cell_type": "code",
      "execution_count": null,
      "metadata": {
        "colab": {
          "base_uri": "https://localhost:8080/",
          "height": 206
        },
        "id": "bmW_1QNRpCI8",
        "outputId": "95faa277-fe15-406a-aaf9-1268c41c1d29"
      },
      "outputs": [
        {
          "output_type": "execute_result",
          "data": {
            "text/plain": [
              "     Marital_Status  Income_percent  Total_amt\n",
              "2053         Single        0.192271         71\n",
              "2019       Together        0.072701         22\n",
              "1891       Together        2.339968       2069\n",
              "335        Divorced        1.520803        946\n",
              "1600        Married        1.043775        562"
            ],
            "text/html": [
              "\n",
              "  <div id=\"df-09326cd4-670f-491f-ba3e-a4923b391342\">\n",
              "    <div class=\"colab-df-container\">\n",
              "      <div>\n",
              "<style scoped>\n",
              "    .dataframe tbody tr th:only-of-type {\n",
              "        vertical-align: middle;\n",
              "    }\n",
              "\n",
              "    .dataframe tbody tr th {\n",
              "        vertical-align: top;\n",
              "    }\n",
              "\n",
              "    .dataframe thead th {\n",
              "        text-align: right;\n",
              "    }\n",
              "</style>\n",
              "<table border=\"1\" class=\"dataframe\">\n",
              "  <thead>\n",
              "    <tr style=\"text-align: right;\">\n",
              "      <th></th>\n",
              "      <th>Marital_Status</th>\n",
              "      <th>Income_percent</th>\n",
              "      <th>Total_amt</th>\n",
              "    </tr>\n",
              "  </thead>\n",
              "  <tbody>\n",
              "    <tr>\n",
              "      <th>2053</th>\n",
              "      <td>Single</td>\n",
              "      <td>0.192271</td>\n",
              "      <td>71</td>\n",
              "    </tr>\n",
              "    <tr>\n",
              "      <th>2019</th>\n",
              "      <td>Together</td>\n",
              "      <td>0.072701</td>\n",
              "      <td>22</td>\n",
              "    </tr>\n",
              "    <tr>\n",
              "      <th>1891</th>\n",
              "      <td>Together</td>\n",
              "      <td>2.339968</td>\n",
              "      <td>2069</td>\n",
              "    </tr>\n",
              "    <tr>\n",
              "      <th>335</th>\n",
              "      <td>Divorced</td>\n",
              "      <td>1.520803</td>\n",
              "      <td>946</td>\n",
              "    </tr>\n",
              "    <tr>\n",
              "      <th>1600</th>\n",
              "      <td>Married</td>\n",
              "      <td>1.043775</td>\n",
              "      <td>562</td>\n",
              "    </tr>\n",
              "  </tbody>\n",
              "</table>\n",
              "</div>\n",
              "      <button class=\"colab-df-convert\" onclick=\"convertToInteractive('df-09326cd4-670f-491f-ba3e-a4923b391342')\"\n",
              "              title=\"Convert this dataframe to an interactive table.\"\n",
              "              style=\"display:none;\">\n",
              "        \n",
              "  <svg xmlns=\"http://www.w3.org/2000/svg\" height=\"24px\"viewBox=\"0 0 24 24\"\n",
              "       width=\"24px\">\n",
              "    <path d=\"M0 0h24v24H0V0z\" fill=\"none\"/>\n",
              "    <path d=\"M18.56 5.44l.94 2.06.94-2.06 2.06-.94-2.06-.94-.94-2.06-.94 2.06-2.06.94zm-11 1L8.5 8.5l.94-2.06 2.06-.94-2.06-.94L8.5 2.5l-.94 2.06-2.06.94zm10 10l.94 2.06.94-2.06 2.06-.94-2.06-.94-.94-2.06-.94 2.06-2.06.94z\"/><path d=\"M17.41 7.96l-1.37-1.37c-.4-.4-.92-.59-1.43-.59-.52 0-1.04.2-1.43.59L10.3 9.45l-7.72 7.72c-.78.78-.78 2.05 0 2.83L4 21.41c.39.39.9.59 1.41.59.51 0 1.02-.2 1.41-.59l7.78-7.78 2.81-2.81c.8-.78.8-2.07 0-2.86zM5.41 20L4 18.59l7.72-7.72 1.47 1.35L5.41 20z\"/>\n",
              "  </svg>\n",
              "      </button>\n",
              "      \n",
              "  <style>\n",
              "    .colab-df-container {\n",
              "      display:flex;\n",
              "      flex-wrap:wrap;\n",
              "      gap: 12px;\n",
              "    }\n",
              "\n",
              "    .colab-df-convert {\n",
              "      background-color: #E8F0FE;\n",
              "      border: none;\n",
              "      border-radius: 50%;\n",
              "      cursor: pointer;\n",
              "      display: none;\n",
              "      fill: #1967D2;\n",
              "      height: 32px;\n",
              "      padding: 0 0 0 0;\n",
              "      width: 32px;\n",
              "    }\n",
              "\n",
              "    .colab-df-convert:hover {\n",
              "      background-color: #E2EBFA;\n",
              "      box-shadow: 0px 1px 2px rgba(60, 64, 67, 0.3), 0px 1px 3px 1px rgba(60, 64, 67, 0.15);\n",
              "      fill: #174EA6;\n",
              "    }\n",
              "\n",
              "    [theme=dark] .colab-df-convert {\n",
              "      background-color: #3B4455;\n",
              "      fill: #D2E3FC;\n",
              "    }\n",
              "\n",
              "    [theme=dark] .colab-df-convert:hover {\n",
              "      background-color: #434B5C;\n",
              "      box-shadow: 0px 1px 3px 1px rgba(0, 0, 0, 0.15);\n",
              "      filter: drop-shadow(0px 1px 2px rgba(0, 0, 0, 0.3));\n",
              "      fill: #FFFFFF;\n",
              "    }\n",
              "  </style>\n",
              "\n",
              "      <script>\n",
              "        const buttonEl =\n",
              "          document.querySelector('#df-09326cd4-670f-491f-ba3e-a4923b391342 button.colab-df-convert');\n",
              "        buttonEl.style.display =\n",
              "          google.colab.kernel.accessAllowed ? 'block' : 'none';\n",
              "\n",
              "        async function convertToInteractive(key) {\n",
              "          const element = document.querySelector('#df-09326cd4-670f-491f-ba3e-a4923b391342');\n",
              "          const dataTable =\n",
              "            await google.colab.kernel.invokeFunction('convertToInteractive',\n",
              "                                                     [key], {});\n",
              "          if (!dataTable) return;\n",
              "\n",
              "          const docLinkHtml = 'Like what you see? Visit the ' +\n",
              "            '<a target=\"_blank\" href=https://colab.research.google.com/notebooks/data_table.ipynb>data table notebook</a>'\n",
              "            + ' to learn more about interactive tables.';\n",
              "          element.innerHTML = '';\n",
              "          dataTable['output_type'] = 'display_data';\n",
              "          await google.colab.output.renderOutput(dataTable, element);\n",
              "          const docLink = document.createElement('div');\n",
              "          docLink.innerHTML = docLinkHtml;\n",
              "          element.appendChild(docLink);\n",
              "        }\n",
              "      </script>\n",
              "    </div>\n",
              "  </div>\n",
              "  "
            ]
          },
          "metadata": {},
          "execution_count": 213
        }
      ],
      "source": [
        "df1[[\"Marital_Status\", \"Income_percent\", \"Total_amt\"]].sample(n=5, random_state=2)"
      ],
      "id": "bmW_1QNRpCI8"
    },
    {
      "cell_type": "markdown",
      "metadata": {
        "id": "a584bf3e-01a4-49c3-ad12-18dd420ffa0b"
      },
      "source": [
        "\n",
        "## Qs 3.  \n",
        "* a) Create a new variable called `Recency(weights)` which is obtained by dividing the `Recency` variable into quintiles (0,1,2,3,4) such that customers lower Recency values have higher weights. i.e the smaller the recency value, the greater the `Recency(weights)`.\n",
        "\n",
        "    * **COMPULSORY**: Validate your resulting by running:\n",
        "\n",
        "```python\n",
        "df[[\"Total_amount\", \"Avg_amount\", \"Avg_amount(weights)\"]].sample(n=5, random_state=2)\n",
        "```\n",
        "\n",
        "* b) What is the percentage of customers that accepted at least an offer after the end of the promotion campaign?"
      ],
      "id": "a584bf3e-01a4-49c3-ad12-18dd420ffa0b"
    },
    {
      "cell_type": "code",
      "execution_count": 36,
      "metadata": {
        "colab": {
          "base_uri": "https://localhost:8080/",
          "height": 441
        },
        "id": "df783f1e-bd9c-4e14-84d5-22e755b8143d",
        "outputId": "3a029a70-035a-4d2d-a03e-6bb13c3584dc"
      },
      "outputs": [
        {
          "output_type": "display_data",
          "data": {
            "text/plain": [
              "<Figure size 720x432 with 1 Axes>"
            ],
            "image/png": "[encoded data removed]"
          },
          "metadata": {
            "needs_background": "light"
          }
        }
      ],
      "source": [
        "# 3a Enter your solution here\n",
        "Recency = df1[\"Recency\"]\n",
        "quintiles = 5 # No of groups/bins\n",
        "df1[\"Recency(weights)\"] = pd.qcut(x=Recency, q=quintiles, labels=[4,3,2,1,0], duplicates=\"drop\").astype(str)\n",
        "df1[\"Recency(weights)\"].unique()\n",
        "\n",
        "display_count(data=df1, feature=\"Recency(weights)\", rotation=20)"
      ],
      "id": "df783f1e-bd9c-4e14-84d5-22e755b8143d"
    },
    {
      "cell_type": "code",
      "execution_count": null,
      "metadata": {
        "colab": {
          "base_uri": "https://localhost:8080/",
          "height": 206
        },
        "id": "LdvhpDTZzzUz",
        "outputId": "551b0447-6f39-4f05-a719-63f94e6d92e8"
      },
      "outputs": [
        {
          "output_type": "execute_result",
          "data": {
            "text/plain": [
              "      Recency Recency(weights)\n",
              "335        38                3\n",
              "2053       46                2\n",
              "2019       75                1\n",
              "1600       64                1\n",
              "1891       87                0"
            ],
            "text/html": [
              "\n",
              "  <div id=\"df-14511c3b-7f3a-4fe7-8138-9b322286b8f1\">\n",
              "    <div class=\"colab-df-container\">\n",
              "      <div>\n",
              "<style scoped>\n",
              "    .dataframe tbody tr th:only-of-type {\n",
              "        vertical-align: middle;\n",
              "    }\n",
              "\n",
              "    .dataframe tbody tr th {\n",
              "        vertical-align: top;\n",
              "    }\n",
              "\n",
              "    .dataframe thead th {\n",
              "        text-align: right;\n",
              "    }\n",
              "</style>\n",
              "<table border=\"1\" class=\"dataframe\">\n",
              "  <thead>\n",
              "    <tr style=\"text-align: right;\">\n",
              "      <th></th>\n",
              "      <th>Recency</th>\n",
              "      <th>Recency(weights)</th>\n",
              "    </tr>\n",
              "  </thead>\n",
              "  <tbody>\n",
              "    <tr>\n",
              "      <th>335</th>\n",
              "      <td>38</td>\n",
              "      <td>3</td>\n",
              "    </tr>\n",
              "    <tr>\n",
              "      <th>2053</th>\n",
              "      <td>46</td>\n",
              "      <td>2</td>\n",
              "    </tr>\n",
              "    <tr>\n",
              "      <th>2019</th>\n",
              "      <td>75</td>\n",
              "      <td>1</td>\n",
              "    </tr>\n",
              "    <tr>\n",
              "      <th>1600</th>\n",
              "      <td>64</td>\n",
              "      <td>1</td>\n",
              "    </tr>\n",
              "    <tr>\n",
              "      <th>1891</th>\n",
              "      <td>87</td>\n",
              "      <td>0</td>\n",
              "    </tr>\n",
              "  </tbody>\n",
              "</table>\n",
              "</div>\n",
              "      <button class=\"colab-df-convert\" onclick=\"convertToInteractive('df-14511c3b-7f3a-4fe7-8138-9b322286b8f1')\"\n",
              "              title=\"Convert this dataframe to an interactive table.\"\n",
              "              style=\"display:none;\">\n",
              "        \n",
              "  <svg xmlns=\"http://www.w3.org/2000/svg\" height=\"24px\"viewBox=\"0 0 24 24\"\n",
              "       width=\"24px\">\n",
              "    <path d=\"M0 0h24v24H0V0z\" fill=\"none\"/>\n",
              "    <path d=\"M18.56 5.44l.94 2.06.94-2.06 2.06-.94-2.06-.94-.94-2.06-.94 2.06-2.06.94zm-11 1L8.5 8.5l.94-2.06 2.06-.94-2.06-.94L8.5 2.5l-.94 2.06-2.06.94zm10 10l.94 2.06.94-2.06 2.06-.94-2.06-.94-.94-2.06-.94 2.06-2.06.94z\"/><path d=\"M17.41 7.96l-1.37-1.37c-.4-.4-.92-.59-1.43-.59-.52 0-1.04.2-1.43.59L10.3 9.45l-7.72 7.72c-.78.78-.78 2.05 0 2.83L4 21.41c.39.39.9.59 1.41.59.51 0 1.02-.2 1.41-.59l7.78-7.78 2.81-2.81c.8-.78.8-2.07 0-2.86zM5.41 20L4 18.59l7.72-7.72 1.47 1.35L5.41 20z\"/>\n",
              "  </svg>\n",
              "      </button>\n",
              "      \n",
              "  <style>\n",
              "    .colab-df-container {\n",
              "      display:flex;\n",
              "      flex-wrap:wrap;\n",
              "      gap: 12px;\n",
              "    }\n",
              "\n",
              "    .colab-df-convert {\n",
              "      background-color: #E8F0FE;\n",
              "      border: none;\n",
              "      border-radius: 50%;\n",
              "      cursor: pointer;\n",
              "      display: none;\n",
              "      fill: #1967D2;\n",
              "      height: 32px;\n",
              "      padding: 0 0 0 0;\n",
              "      width: 32px;\n",
              "    }\n",
              "\n",
              "    .colab-df-convert:hover {\n",
              "      background-color: #E2EBFA;\n",
              "      box-shadow: 0px 1px 2px rgba(60, 64, 67, 0.3), 0px 1px 3px 1px rgba(60, 64, 67, 0.15);\n",
              "      fill: #174EA6;\n",
              "    }\n",
              "\n",
              "    [theme=dark] .colab-df-convert {\n",
              "      background-color: #3B4455;\n",
              "      fill: #D2E3FC;\n",
              "    }\n",
              "\n",
              "    [theme=dark] .colab-df-convert:hover {\n",
              "      background-color: #434B5C;\n",
              "      box-shadow: 0px 1px 3px 1px rgba(0, 0, 0, 0.15);\n",
              "      filter: drop-shadow(0px 1px 2px rgba(0, 0, 0, 0.3));\n",
              "      fill: #FFFFFF;\n",
              "    }\n",
              "  </style>\n",
              "\n",
              "      <script>\n",
              "        const buttonEl =\n",
              "          document.querySelector('#df-14511c3b-7f3a-4fe7-8138-9b322286b8f1 button.colab-df-convert');\n",
              "        buttonEl.style.display =\n",
              "          google.colab.kernel.accessAllowed ? 'block' : 'none';\n",
              "\n",
              "        async function convertToInteractive(key) {\n",
              "          const element = document.querySelector('#df-14511c3b-7f3a-4fe7-8138-9b322286b8f1');\n",
              "          const dataTable =\n",
              "            await google.colab.kernel.invokeFunction('convertToInteractive',\n",
              "                                                     [key], {});\n",
              "          if (!dataTable) return;\n",
              "\n",
              "          const docLinkHtml = 'Like what you see? Visit the ' +\n",
              "            '<a target=\"_blank\" href=https://colab.research.google.com/notebooks/data_table.ipynb>data table notebook</a>'\n",
              "            + ' to learn more about interactive tables.';\n",
              "          element.innerHTML = '';\n",
              "          dataTable['output_type'] = 'display_data';\n",
              "          await google.colab.output.renderOutput(dataTable, element);\n",
              "          const docLink = document.createElement('div');\n",
              "          docLink.innerHTML = docLinkHtml;\n",
              "          element.appendChild(docLink);\n",
              "        }\n",
              "      </script>\n",
              "    </div>\n",
              "  </div>\n",
              "  "
            ]
          },
          "metadata": {},
          "execution_count": 224
        }
      ],
      "source": [
        "# displaying a sample of my \"Recency\" and \"Recency(weights)\"\n",
        "df1[[\"Recency\", \"Recency(weights)\"]].sample(n=5, random_state=2).sort_values(by=\"Recency(weights)\", ascending=False)\n",
        "# N/b: customers lower Recency values have higher weights and vice-versa. \n",
        "# i.e the smaller the recency value, the greater the Recency(weights)"
      ],
      "id": "LdvhpDTZzzUz"
    },
    {
      "cell_type": "code",
      "execution_count": null,
      "metadata": {
        "colab": {
          "base_uri": "https://localhost:8080/",
          "height": 112
        },
        "id": "441eba4d-e7a9-4d79-8b98-3d7c8f8fe8ba",
        "outputId": "4cdba280-e78b-4f7d-8567-fc229dabe861"
      },
      "outputs": [
        {
          "output_type": "execute_result",
          "data": {
            "text/plain": [
              "   AcceptedCmp3  AcceptedCmp4  AcceptedCmp5  AcceptedCmp1  AcceptedCmp2\n",
              "0             0             0             0             0             0\n",
              "1             0             0             0             0             0"
            ],
            "text/html": [
              "\n",
              "  <div id=\"df-a9c6248d-0624-4a72-b7cc-3c5a117fbb4e\">\n",
              "    <div class=\"colab-df-container\">\n",
              "      <div>\n",
              "<style scoped>\n",
              "    .dataframe tbody tr th:only-of-type {\n",
              "        vertical-align: middle;\n",
              "    }\n",
              "\n",
              "    .dataframe tbody tr th {\n",
              "        vertical-align: top;\n",
              "    }\n",
              "\n",
              "    .dataframe thead th {\n",
              "        text-align: right;\n",
              "    }\n",
              "</style>\n",
              "<table border=\"1\" class=\"dataframe\">\n",
              "  <thead>\n",
              "    <tr style=\"text-align: right;\">\n",
              "      <th></th>\n",
              "      <th>AcceptedCmp3</th>\n",
              "      <th>AcceptedCmp4</th>\n",
              "      <th>AcceptedCmp5</th>\n",
              "      <th>AcceptedCmp1</th>\n",
              "      <th>AcceptedCmp2</th>\n",
              "    </tr>\n",
              "  </thead>\n",
              "  <tbody>\n",
              "    <tr>\n",
              "      <th>0</th>\n",
              "      <td>0</td>\n",
              "      <td>0</td>\n",
              "      <td>0</td>\n",
              "      <td>0</td>\n",
              "      <td>0</td>\n",
              "    </tr>\n",
              "    <tr>\n",
              "      <th>1</th>\n",
              "      <td>0</td>\n",
              "      <td>0</td>\n",
              "      <td>0</td>\n",
              "      <td>0</td>\n",
              "      <td>0</td>\n",
              "    </tr>\n",
              "  </tbody>\n",
              "</table>\n",
              "</div>\n",
              "      <button class=\"colab-df-convert\" onclick=\"convertToInteractive('df-a9c6248d-0624-4a72-b7cc-3c5a117fbb4e')\"\n",
              "              title=\"Convert this dataframe to an interactive table.\"\n",
              "              style=\"display:none;\">\n",
              "        \n",
              "  <svg xmlns=\"http://www.w3.org/2000/svg\" height=\"24px\"viewBox=\"0 0 24 24\"\n",
              "       width=\"24px\">\n",
              "    <path d=\"M0 0h24v24H0V0z\" fill=\"none\"/>\n",
              "    <path d=\"M18.56 5.44l.94 2.06.94-2.06 2.06-.94-2.06-.94-.94-2.06-.94 2.06-2.06.94zm-11 1L8.5 8.5l.94-2.06 2.06-.94-2.06-.94L8.5 2.5l-.94 2.06-2.06.94zm10 10l.94 2.06.94-2.06 2.06-.94-2.06-.94-.94-2.06-.94 2.06-2.06.94z\"/><path d=\"M17.41 7.96l-1.37-1.37c-.4-.4-.92-.59-1.43-.59-.52 0-1.04.2-1.43.59L10.3 9.45l-7.72 7.72c-.78.78-.78 2.05 0 2.83L4 21.41c.39.39.9.59 1.41.59.51 0 1.02-.2 1.41-.59l7.78-7.78 2.81-2.81c.8-.78.8-2.07 0-2.86zM5.41 20L4 18.59l7.72-7.72 1.47 1.35L5.41 20z\"/>\n",
              "  </svg>\n",
              "      </button>\n",
              "      \n",
              "  <style>\n",
              "    .colab-df-container {\n",
              "      display:flex;\n",
              "      flex-wrap:wrap;\n",
              "      gap: 12px;\n",
              "    }\n",
              "\n",
              "    .colab-df-convert {\n",
              "      background-color: #E8F0FE;\n",
              "      border: none;\n",
              "      border-radius: 50%;\n",
              "      cursor: pointer;\n",
              "      display: none;\n",
              "      fill: #1967D2;\n",
              "      height: 32px;\n",
              "      padding: 0 0 0 0;\n",
              "      width: 32px;\n",
              "    }\n",
              "\n",
              "    .colab-df-convert:hover {\n",
              "      background-color: #E2EBFA;\n",
              "      box-shadow: 0px 1px 2px rgba(60, 64, 67, 0.3), 0px 1px 3px 1px rgba(60, 64, 67, 0.15);\n",
              "      fill: #174EA6;\n",
              "    }\n",
              "\n",
              "    [theme=dark] .colab-df-convert {\n",
              "      background-color: #3B4455;\n",
              "      fill: #D2E3FC;\n",
              "    }\n",
              "\n",
              "    [theme=dark] .colab-df-convert:hover {\n",
              "      background-color: #434B5C;\n",
              "      box-shadow: 0px 1px 3px 1px rgba(0, 0, 0, 0.15);\n",
              "      filter: drop-shadow(0px 1px 2px rgba(0, 0, 0, 0.3));\n",
              "      fill: #FFFFFF;\n",
              "    }\n",
              "  </style>\n",
              "\n",
              "      <script>\n",
              "        const buttonEl =\n",
              "          document.querySelector('#df-a9c6248d-0624-4a72-b7cc-3c5a117fbb4e button.colab-df-convert');\n",
              "        buttonEl.style.display =\n",
              "          google.colab.kernel.accessAllowed ? 'block' : 'none';\n",
              "\n",
              "        async function convertToInteractive(key) {\n",
              "          const element = document.querySelector('#df-a9c6248d-0624-4a72-b7cc-3c5a117fbb4e');\n",
              "          const dataTable =\n",
              "            await google.colab.kernel.invokeFunction('convertToInteractive',\n",
              "                                                     [key], {});\n",
              "          if (!dataTable) return;\n",
              "\n",
              "          const docLinkHtml = 'Like what you see? Visit the ' +\n",
              "            '<a target=\"_blank\" href=https://colab.research.google.com/notebooks/data_table.ipynb>data table notebook</a>'\n",
              "            + ' to learn more about interactive tables.';\n",
              "          element.innerHTML = '';\n",
              "          dataTable['output_type'] = 'display_data';\n",
              "          await google.colab.output.renderOutput(dataTable, element);\n",
              "          const docLink = document.createElement('div');\n",
              "          docLink.innerHTML = docLinkHtml;\n",
              "          element.appendChild(docLink);\n",
              "        }\n",
              "      </script>\n",
              "    </div>\n",
              "  </div>\n",
              "  "
            ]
          },
          "metadata": {},
          "execution_count": 217
        }
      ],
      "source": [
        "# 3b  What is the percentage of customers that accepted at least an offer after the end of the promotion campaign?\n",
        "# filter accepted offer from dataframe\n",
        "Accepted_offers = [var for var in df1.columns if \"Accepted\" in var]\n",
        "df1[Accepted_offers].head(2)"
      ],
      "id": "441eba4d-e7a9-4d79-8b98-3d7c8f8fe8ba"
    },
    {
      "cell_type": "code",
      "execution_count": null,
      "metadata": {
        "colab": {
          "base_uri": "https://localhost:8080/"
        },
        "id": "1f6c97ed-ff1f-4217-abbd-8ae1fa15f33b",
        "outputId": "0ecd98a9-2454-42da-e215-01da25575826"
      },
      "outputs": [
        {
          "output_type": "execute_result",
          "data": {
            "text/plain": [
              "20.669642857142854"
            ]
          },
          "metadata": {},
          "execution_count": 218
        }
      ],
      "source": [
        "# creating new column named \"Total_accepted_offers\"\n",
        "df1[\"Total_accepted_offers\"] = df1[Accepted_offers].sum(axis=1)\n",
        "\n",
        "# filter customers that only, that accepted atleast an offer\n",
        "Atleast_an_offer = df1[df1[\"Total_accepted_offers\"] >=1]\n",
        "\n",
        "# percentage of customers that accepted atleast an offer\n",
        "atleast_offer_perc = (Atleast_an_offer.shape[0]/df1.shape[0])*100\n",
        "atleast_offer_perc"
      ],
      "id": "1f6c97ed-ff1f-4217-abbd-8ae1fa15f33b"
    },
    {
      "cell_type": "code",
      "source": [
        "grid = sns.FacetGrid(df1, col=\"Recency(weights)\", hue=\"Recency(weights)\", col_wrap=5)\n",
        "grid.map(sns.scatterplot, \"Income\", \"Recency\")\n",
        "grid.add_legend()\n",
        "plt.show()\n",
        "\n",
        "# This shows a cluster in each recency weight. which still clearly shows the higher the recency, the lower the recency's weight\n",
        "# The cluster is as a result of the quintle grouping "
      ],
      "metadata": {
        "colab": {
          "base_uri": "https://localhost:8080/",
          "height": 149
        },
        "id": "opjh9o7LPDAs",
        "outputId": "639bf989-356e-47ae-9a35-0c57ac73ea0d"
      },
      "id": "opjh9o7LPDAs",
      "execution_count": 40,
      "outputs": [
        {
          "output_type": "display_data",
          "data": {
            "text/plain": [
              "<Figure size 1176.62x216 with 5 Axes>"
            ],
            "image/png": "[encoded data removed]"
          },
          "metadata": {
            "needs_background": "light"
          }
        }
      ]
    },
    {
      "cell_type": "code",
      "execution_count": null,
      "metadata": {
        "id": "6a3f7861-637a-4d9a-8f2b-b7294a16a908",
        "colab": {
          "base_uri": "https://localhost:8080/"
        },
        "outputId": "bc27c95d-85c9-4c04-89ac-a9746d411aa6"
      },
      "outputs": [
        {
          "output_type": "execute_result",
          "data": {
            "text/plain": [
              "2053    0\n",
              "2019    0\n",
              "1891    3\n",
              "335     0\n",
              "1600    0\n",
              "Name: Total_accepted_offers, dtype: int64"
            ]
          },
          "metadata": {},
          "execution_count": 225
        }
      ],
      "source": [
        "# Sample of the total amount purchased by customers\n",
        "df1[\"Total_accepted_offers\"].sample(n=5, random_state=2)"
      ],
      "id": "6a3f7861-637a-4d9a-8f2b-b7294a16a908"
    },
    {
      "cell_type": "markdown",
      "metadata": {
        "id": "e276adc7-89d9-4e69-8436-9336be6c5304"
      },
      "source": [
        "## Qs 4.  \n",
        "* a) Calculate the frequency of the purchases. (Do this by finding the total number of purchases made by every customer)\n",
        "* b) Create a new variable, `Frequency(weights)` by converting the result from the previous question to quartiles (0,1,2,3) such that the higher the `Frequency`, the higher the weight.\n",
        "\n",
        "    * **COMPULSORY**: Validate your resulting by running:\n",
        "\n",
        "```python\n",
        "df[[\"Total_amount\", \"Avg_amount\", \"Avg_amount(weights)\"]].sample(n=5, random_state=2)\n",
        "```"
      ],
      "id": "e276adc7-89d9-4e69-8436-9336be6c5304"
    },
    {
      "cell_type": "code",
      "execution_count": 41,
      "metadata": {
        "id": "b9377e29-13e6-4a91-9120-07eb2d1a1768",
        "scrolled": true,
        "colab": {
          "base_uri": "https://localhost:8080/",
          "height": 297
        },
        "outputId": "f1da75b4-e67e-45aa-db55-086b8565f015"
      },
      "outputs": [
        {
          "output_type": "display_data",
          "data": {
            "text/plain": [
              "<Figure size 432x288 with 1 Axes>"
            ],
            "image/png": "[encoded data removed]"
          },
          "metadata": {
            "needs_background": "light"
          }
        }
      ],
      "source": [
        "# 4a Calculate the frequency of the purchases.\n",
        "purchases = [var for var in df1.columns if \"Purch\" in var or \"Num\" in var]\n",
        "df1[purchases].head(2)\n",
        "\n",
        "# find the total number of purchases made by every customer\n",
        "df1[\"total_freq_purchase\"] = df1[purchases].sum(axis=1)\n",
        "df1[\"total_freq_purchase\"].unique()\n",
        "\n",
        "# use histogram_count to get frequency\n",
        "plot_histogram(data=df1, feature=\"total_freq_purchase\")\n",
        "\n",
        "# This shows that the bulk of the data is btw '10-30' total frequent purchase. It has a fairly normal distribution shape\n"
      ],
      "id": "b9377e29-13e6-4a91-9120-07eb2d1a1768"
    },
    {
      "cell_type": "code",
      "source": [
        "df1[\"total_freq_purchase\"].unique()"
      ],
      "metadata": {
        "colab": {
          "base_uri": "https://localhost:8080/"
        },
        "id": "n0AlvebwSMkF",
        "outputId": "75371890-4128-48bd-c959-1e86ccd81ccb"
      },
      "id": "n0AlvebwSMkF",
      "execution_count": null,
      "outputs": [
        {
          "output_type": "execute_result",
          "data": {
            "text/plain": [
              "array([32, 11, 25, 14, 24, 28, 27, 18, 15, 22, 21, 13, 29, 17, 20, 31, 44,\n",
              "       12, 23, 30, 16,  9, 19, 36, 26, 37, 10,  7, 38,  8, 33,  6, 35, 34,\n",
              "       41, 46,  2,  0, 39, 40,  3,  1])"
            ]
          },
          "metadata": {},
          "execution_count": 227
        }
      ]
    },
    {
      "cell_type": "code",
      "execution_count": 43,
      "metadata": {
        "id": "315980f2-d047-4213-ba28-231774b5fb37",
        "scrolled": true,
        "colab": {
          "base_uri": "https://localhost:8080/",
          "height": 148
        },
        "outputId": "00d3e46f-2893-4ccb-eae9-b4c3de17fb24"
      },
      "outputs": [
        {
          "output_type": "display_data",
          "data": {
            "text/plain": [
              "<Figure size 1186.38x216 with 4 Axes>"
            ],
            "image/png": "[encoded data removed]"
          },
          "metadata": {
            "needs_background": "light"
          }
        }
      ],
      "source": [
        "# 4b Create a new variable, Frequency(weights) by converting the result from the previous question to quartiles (0,1,2,3) such that the higher the Frequency, the higher the weight\n",
        "Frequency = df1[\"total_freq_purchase\"]\n",
        "quartiles = 4\n",
        "# covert \"total_freq_purchase\" to \"Frequency(weights)\" and store in a new column\n",
        "df1[\"Frequency(weights)\"] = pd.qcut(x=Frequency, q=quartiles, labels=np.arange(quartiles), duplicates=\"drop\").astype(str)\n",
        "df1[\"Frequency(weights)\"].unique()\n",
        "\n",
        "\n",
        "# plot a scatterplot applying a FacetGrid\n",
        "grid = sns.FacetGrid(df1, col=\"Frequency(weights)\", hue=\"Frequency(weights)\", col_wrap=5)\n",
        "grid.map(sns.scatterplot, \"Income\", \"total_freq_purchase\")\n",
        "grid.add_legend()\n",
        "plt.show()\n",
        "\n",
        "# Here it shows a cluster of the total_freq_purchase and income due to the frequency(weight) grouping, whereby the higher the total_freq_purch,\n",
        "# the higher the weights, even tho it isnt orderly"
      ],
      "id": "315980f2-d047-4213-ba28-231774b5fb37"
    },
    {
      "cell_type": "code",
      "execution_count": null,
      "metadata": {
        "id": "a9f70d7b-4a62-43bd-820a-769e16cbb821",
        "scrolled": true,
        "colab": {
          "base_uri": "https://localhost:8080/",
          "height": 206
        },
        "outputId": "87ab7f28-dc98-44b4-acee-53f0da9a8eb0"
      },
      "outputs": [
        {
          "output_type": "execute_result",
          "data": {
            "text/plain": [
              "      total_freq_purchase Frequency(weights)\n",
              "1600                   27                  3\n",
              "335                    25                  2\n",
              "1891                   21                  2\n",
              "2053                   16                  1\n",
              "2019                   12                  0"
            ],
            "text/html": [
              "\n",
              "  <div id=\"df-4a7b68b0-34ee-4524-8ac7-174857332298\">\n",
              "    <div class=\"colab-df-container\">\n",
              "      <div>\n",
              "<style scoped>\n",
              "    .dataframe tbody tr th:only-of-type {\n",
              "        vertical-align: middle;\n",
              "    }\n",
              "\n",
              "    .dataframe tbody tr th {\n",
              "        vertical-align: top;\n",
              "    }\n",
              "\n",
              "    .dataframe thead th {\n",
              "        text-align: right;\n",
              "    }\n",
              "</style>\n",
              "<table border=\"1\" class=\"dataframe\">\n",
              "  <thead>\n",
              "    <tr style=\"text-align: right;\">\n",
              "      <th></th>\n",
              "      <th>total_freq_purchase</th>\n",
              "      <th>Frequency(weights)</th>\n",
              "    </tr>\n",
              "  </thead>\n",
              "  <tbody>\n",
              "    <tr>\n",
              "      <th>1600</th>\n",
              "      <td>27</td>\n",
              "      <td>3</td>\n",
              "    </tr>\n",
              "    <tr>\n",
              "      <th>335</th>\n",
              "      <td>25</td>\n",
              "      <td>2</td>\n",
              "    </tr>\n",
              "    <tr>\n",
              "      <th>1891</th>\n",
              "      <td>21</td>\n",
              "      <td>2</td>\n",
              "    </tr>\n",
              "    <tr>\n",
              "      <th>2053</th>\n",
              "      <td>16</td>\n",
              "      <td>1</td>\n",
              "    </tr>\n",
              "    <tr>\n",
              "      <th>2019</th>\n",
              "      <td>12</td>\n",
              "      <td>0</td>\n",
              "    </tr>\n",
              "  </tbody>\n",
              "</table>\n",
              "</div>\n",
              "      <button class=\"colab-df-convert\" onclick=\"convertToInteractive('df-4a7b68b0-34ee-4524-8ac7-174857332298')\"\n",
              "              title=\"Convert this dataframe to an interactive table.\"\n",
              "              style=\"display:none;\">\n",
              "        \n",
              "  <svg xmlns=\"http://www.w3.org/2000/svg\" height=\"24px\"viewBox=\"0 0 24 24\"\n",
              "       width=\"24px\">\n",
              "    <path d=\"M0 0h24v24H0V0z\" fill=\"none\"/>\n",
              "    <path d=\"M18.56 5.44l.94 2.06.94-2.06 2.06-.94-2.06-.94-.94-2.06-.94 2.06-2.06.94zm-11 1L8.5 8.5l.94-2.06 2.06-.94-2.06-.94L8.5 2.5l-.94 2.06-2.06.94zm10 10l.94 2.06.94-2.06 2.06-.94-2.06-.94-.94-2.06-.94 2.06-2.06.94z\"/><path d=\"M17.41 7.96l-1.37-1.37c-.4-.4-.92-.59-1.43-.59-.52 0-1.04.2-1.43.59L10.3 9.45l-7.72 7.72c-.78.78-.78 2.05 0 2.83L4 21.41c.39.39.9.59 1.41.59.51 0 1.02-.2 1.41-.59l7.78-7.78 2.81-2.81c.8-.78.8-2.07 0-2.86zM5.41 20L4 18.59l7.72-7.72 1.47 1.35L5.41 20z\"/>\n",
              "  </svg>\n",
              "      </button>\n",
              "      \n",
              "  <style>\n",
              "    .colab-df-container {\n",
              "      display:flex;\n",
              "      flex-wrap:wrap;\n",
              "      gap: 12px;\n",
              "    }\n",
              "\n",
              "    .colab-df-convert {\n",
              "      background-color: #E8F0FE;\n",
              "      border: none;\n",
              "      border-radius: 50%;\n",
              "      cursor: pointer;\n",
              "      display: none;\n",
              "      fill: #1967D2;\n",
              "      height: 32px;\n",
              "      padding: 0 0 0 0;\n",
              "      width: 32px;\n",
              "    }\n",
              "\n",
              "    .colab-df-convert:hover {\n",
              "      background-color: #E2EBFA;\n",
              "      box-shadow: 0px 1px 2px rgba(60, 64, 67, 0.3), 0px 1px 3px 1px rgba(60, 64, 67, 0.15);\n",
              "      fill: #174EA6;\n",
              "    }\n",
              "\n",
              "    [theme=dark] .colab-df-convert {\n",
              "      background-color: #3B4455;\n",
              "      fill: #D2E3FC;\n",
              "    }\n",
              "\n",
              "    [theme=dark] .colab-df-convert:hover {\n",
              "      background-color: #434B5C;\n",
              "      box-shadow: 0px 1px 3px 1px rgba(0, 0, 0, 0.15);\n",
              "      filter: drop-shadow(0px 1px 2px rgba(0, 0, 0, 0.3));\n",
              "      fill: #FFFFFF;\n",
              "    }\n",
              "  </style>\n",
              "\n",
              "      <script>\n",
              "        const buttonEl =\n",
              "          document.querySelector('#df-4a7b68b0-34ee-4524-8ac7-174857332298 button.colab-df-convert');\n",
              "        buttonEl.style.display =\n",
              "          google.colab.kernel.accessAllowed ? 'block' : 'none';\n",
              "\n",
              "        async function convertToInteractive(key) {\n",
              "          const element = document.querySelector('#df-4a7b68b0-34ee-4524-8ac7-174857332298');\n",
              "          const dataTable =\n",
              "            await google.colab.kernel.invokeFunction('convertToInteractive',\n",
              "                                                     [key], {});\n",
              "          if (!dataTable) return;\n",
              "\n",
              "          const docLinkHtml = 'Like what you see? Visit the ' +\n",
              "            '<a target=\"_blank\" href=https://colab.research.google.com/notebooks/data_table.ipynb>data table notebook</a>'\n",
              "            + ' to learn more about interactive tables.';\n",
              "          element.innerHTML = '';\n",
              "          dataTable['output_type'] = 'display_data';\n",
              "          await google.colab.output.renderOutput(dataTable, element);\n",
              "          const docLink = document.createElement('div');\n",
              "          docLink.innerHTML = docLinkHtml;\n",
              "          element.appendChild(docLink);\n",
              "        }\n",
              "      </script>\n",
              "    </div>\n",
              "  </div>\n",
              "  "
            ]
          },
          "metadata": {},
          "execution_count": 229
        }
      ],
      "source": [
        "df1[[\"total_freq_purchase\", \"Frequency(weights)\"]].sample(n=5, random_state=2).sort_values(by=\"total_freq_purchase\", ascending=False)"
      ],
      "id": "a9f70d7b-4a62-43bd-820a-769e16cbb821"
    },
    {
      "cell_type": "code",
      "execution_count": null,
      "metadata": {
        "id": "184ee6bc-f9da-4449-89af-87cf24375051"
      },
      "outputs": [],
      "source": [],
      "id": "184ee6bc-f9da-4449-89af-87cf24375051"
    },
    {
      "cell_type": "markdown",
      "metadata": {
        "id": "c9d3492e-3df2-4730-9c79-a5722cfa9180"
      },
      "source": [
        "## Qs 5.  \n",
        "* a) Calculate the `Customer Personality Analysis` using **RFM** (Recency Frequency Monetary) value using the formula:\n",
        "`Recency(weights)` + `Frequency(weights)` + `Avg_amount(weights)`. \n",
        "* b) Create a new variable called `Customer_value` by segmenting the customers using the RFM value. The RFM value should be converted into tercile (3 groups). Customer_value should have the following labels: `high_value`, `medium_value` and `low_value` which represents the binned RFM values.\n",
        "\n",
        "    * **COMPULSORY**: Validate your resulting by running:\n",
        "```python\n",
        "df[[\"Recency(weights)\", \"Frequency(weights)\", \"Avg_amount(weights)\", \"RFM\", \"Customer_value\"]].sample(n=10, random_state=2)\n",
        "```"
      ],
      "id": "c9d3492e-3df2-4730-9c79-a5722cfa9180"
    },
    {
      "cell_type": "code",
      "execution_count": 48,
      "metadata": {
        "id": "f22fe691-4a97-41d4-8079-3380ef32b6f0",
        "scrolled": true,
        "outputId": "9b46c826-3e9a-44d5-e14a-5cae7891d2a1",
        "colab": {
          "base_uri": "https://localhost:8080/"
        }
      },
      "outputs": [
        {
          "output_type": "execute_result",
          "data": {
            "text/plain": [
              "0       23(256.033, 420.83]\n",
              "1          30(0.829, 5.814]\n",
              "2       32(105.898, 154.33]\n",
              "3           30(5.814, 9.17]\n",
              "4         02(66.0, 105.898]\n",
              "               ...         \n",
              "2235    22(195.67, 256.033]\n",
              "2236      23(66.0, 105.898]\n",
              "2237    02(195.67, 256.033]\n",
              "2238    43(105.898, 154.33]\n",
              "2239      21(15.17, 32.432]\n",
              "Name: RFM, Length: 2240, dtype: object"
            ]
          },
          "metadata": {},
          "execution_count": 48
        }
      ],
      "source": [
        "\n",
        "\n",
        "# 5a  Calculate the Customer Personality Analysis using RFM (Recency Frequency Monetary) value using the formula: Recency(weights) + Frequency(weights) + Avg_amount(weights)\n",
        "df1[\"RFM\"] = (df1[\"Recency(weights)\"] + df1[\"Frequency(weights)\"] + df1[\"Avg_amount(weights)\"])\n",
        "\n",
        "df1[\"RFM\"]"
      ],
      "id": "f22fe691-4a97-41d4-8079-3380ef32b6f0"
    },
    {
      "cell_type": "code",
      "source": [
        "# clean RFM column and convert into numericall values\n",
        "df1[\"RFM\"] = (\n",
        "    df1[\"RFM\"]\\\n",
        ".str.replace(\"(\",\",\")\\\n",
        ".str.replace(\"]\",\"\")\\\n",
        ".str.split(\",\").apply(lambda x: [float(i) for i in x]).apply(lambda x: sum(x)/len(x))\n",
        ")\n",
        "\n",
        "df1[\"RFM\"].head(4)"
      ],
      "metadata": {
        "colab": {
          "base_uri": "https://localhost:8080/"
        },
        "id": "0aHLyYXteyfc",
        "outputId": "d847e6cc-f94a-4c79-c5d5-e32e28b2c3d6"
      },
      "id": "0aHLyYXteyfc",
      "execution_count": 49,
      "outputs": [
        {
          "output_type": "stream",
          "name": "stderr",
          "text": [
            "<ipython-input-49-b8a563751b14>:3: FutureWarning: The default value of regex will change from True to False in a future version. In addition, single character regular expressions will *not* be treated as literal strings when regex=True.\n",
            "  df1[\"RFM\"]\\\n"
          ]
        },
        {
          "output_type": "execute_result",
          "data": {
            "text/plain": [
              "0    233.287667\n",
              "1     12.214333\n",
              "2     97.409333\n",
              "3     14.994667\n",
              "Name: RFM, dtype: float64"
            ]
          },
          "metadata": {},
          "execution_count": 49
        }
      ]
    },
    {
      "cell_type": "code",
      "source": [
        "# # OR using regex pattern\n",
        "# pattern = r\"(\\d+\\([\\d\\.]*\\,\\s*[\\d\\.]*\\])\"\n",
        "# ff = df1[\"RFM\"].str.extract(pattern, expand=True)\n",
        "# ff = ff[0]\n",
        "# ff = ff.str.replace(\"(\", \",\").str.replace(\"]\", \"\").str.split(\",\").apply(lambda x: [float(i) for i in x]).apply(lambda x: sum(x)/len(x))\n",
        "# ff"
      ],
      "metadata": {
        "id": "9AT24wOkp4jl"
      },
      "id": "9AT24wOkp4jl",
      "execution_count": 50,
      "outputs": []
    },
    {
      "cell_type": "code",
      "source": [
        "df1.head(1)"
      ],
      "metadata": {
        "colab": {
          "base_uri": "https://localhost:8080/",
          "height": 145
        },
        "id": "eX_GV1XXqAKn",
        "outputId": "3f22e0ad-49a2-420f-fbaa-fca025e84948"
      },
      "id": "eX_GV1XXqAKn",
      "execution_count": 51,
      "outputs": [
        {
          "output_type": "execute_result",
          "data": {
            "text/plain": [
              "     ID  Year_Birth   Education Marital_Status   Income  Kidhome  Teenhome  \\\n",
              "0  5524        1957  Graduation         Single  58138.0        0         0   \n",
              "\n",
              "  Dt_Customer  Recency  MntWines  MntFruits  MntMeatProducts  MntFishProducts  \\\n",
              "0  04-09-2012       58       635         88              546              172   \n",
              "\n",
              "   MntSweetProducts  MntGoldProds  NumDealsPurchases  NumWebPurchases  \\\n",
              "0                88            88                  3                8   \n",
              "\n",
              "   NumCatalogPurchases  NumStorePurchases  NumWebVisitsMonth  AcceptedCmp3  \\\n",
              "0                   10                  4                  7             0   \n",
              "\n",
              "   AcceptedCmp4  AcceptedCmp5  AcceptedCmp1  AcceptedCmp2  Complain  \\\n",
              "0             0             0             0             0         0   \n",
              "\n",
              "   Z_CostContact  Z_Revenue  Response  Total_amt  Avg_amt Avg_amount(weights)  \\\n",
              "0              3         11         1       1617    269.5   (256.033, 420.83]   \n",
              "\n",
              "   Income_percent Recency(weights)  total_freq_purchase Frequency(weights)  \\\n",
              "0        2.781313                2                   32                  3   \n",
              "\n",
              "          RFM  \n",
              "0  233.287667  "
            ],
            "text/html": [
              "\n",
              "  <div id=\"df-24cef180-f228-4bcb-915a-472a5bb6264b\">\n",
              "    <div class=\"colab-df-container\">\n",
              "      <div>\n",
              "<style scoped>\n",
              "    .dataframe tbody tr th:only-of-type {\n",
              "        vertical-align: middle;\n",
              "    }\n",
              "\n",
              "    .dataframe tbody tr th {\n",
              "        vertical-align: top;\n",
              "    }\n",
              "\n",
              "    .dataframe thead th {\n",
              "        text-align: right;\n",
              "    }\n",
              "</style>\n",
              "<table border=\"1\" class=\"dataframe\">\n",
              "  <thead>\n",
              "    <tr style=\"text-align: right;\">\n",
              "      <th></th>\n",
              "      <th>ID</th>\n",
              "      <th>Year_Birth</th>\n",
              "      <th>Education</th>\n",
              "      <th>Marital_Status</th>\n",
              "      <th>Income</th>\n",
              "      <th>Kidhome</th>\n",
              "      <th>Teenhome</th>\n",
              "      <th>Dt_Customer</th>\n",
              "      <th>Recency</th>\n",
              "      <th>MntWines</th>\n",
              "      <th>MntFruits</th>\n",
              "      <th>MntMeatProducts</th>\n",
              "      <th>MntFishProducts</th>\n",
              "      <th>MntSweetProducts</th>\n",
              "      <th>MntGoldProds</th>\n",
              "      <th>NumDealsPurchases</th>\n",
              "      <th>NumWebPurchases</th>\n",
              "      <th>NumCatalogPurchases</th>\n",
              "      <th>NumStorePurchases</th>\n",
              "      <th>NumWebVisitsMonth</th>\n",
              "      <th>AcceptedCmp3</th>\n",
              "      <th>AcceptedCmp4</th>\n",
              "      <th>AcceptedCmp5</th>\n",
              "      <th>AcceptedCmp1</th>\n",
              "      <th>AcceptedCmp2</th>\n",
              "      <th>Complain</th>\n",
              "      <th>Z_CostContact</th>\n",
              "      <th>Z_Revenue</th>\n",
              "      <th>Response</th>\n",
              "      <th>Total_amt</th>\n",
              "      <th>Avg_amt</th>\n",
              "      <th>Avg_amount(weights)</th>\n",
              "      <th>Income_percent</th>\n",
              "      <th>Recency(weights)</th>\n",
              "      <th>total_freq_purchase</th>\n",
              "      <th>Frequency(weights)</th>\n",
              "      <th>RFM</th>\n",
              "    </tr>\n",
              "  </thead>\n",
              "  <tbody>\n",
              "    <tr>\n",
              "      <th>0</th>\n",
              "      <td>5524</td>\n",
              "      <td>1957</td>\n",
              "      <td>Graduation</td>\n",
              "      <td>Single</td>\n",
              "      <td>58138.0</td>\n",
              "      <td>0</td>\n",
              "      <td>0</td>\n",
              "      <td>04-09-2012</td>\n",
              "      <td>58</td>\n",
              "      <td>635</td>\n",
              "      <td>88</td>\n",
              "      <td>546</td>\n",
              "      <td>172</td>\n",
              "      <td>88</td>\n",
              "      <td>88</td>\n",
              "      <td>3</td>\n",
              "      <td>8</td>\n",
              "      <td>10</td>\n",
              "      <td>4</td>\n",
              "      <td>7</td>\n",
              "      <td>0</td>\n",
              "      <td>0</td>\n",
              "      <td>0</td>\n",
              "      <td>0</td>\n",
              "      <td>0</td>\n",
              "      <td>0</td>\n",
              "      <td>3</td>\n",
              "      <td>11</td>\n",
              "      <td>1</td>\n",
              "      <td>1617</td>\n",
              "      <td>269.5</td>\n",
              "      <td>(256.033, 420.83]</td>\n",
              "      <td>2.781313</td>\n",
              "      <td>2</td>\n",
              "      <td>32</td>\n",
              "      <td>3</td>\n",
              "      <td>233.287667</td>\n",
              "    </tr>\n",
              "  </tbody>\n",
              "</table>\n",
              "</div>\n",
              "      <button class=\"colab-df-convert\" onclick=\"convertToInteractive('df-24cef180-f228-4bcb-915a-472a5bb6264b')\"\n",
              "              title=\"Convert this dataframe to an interactive table.\"\n",
              "              style=\"display:none;\">\n",
              "        \n",
              "  <svg xmlns=\"http://www.w3.org/2000/svg\" height=\"24px\"viewBox=\"0 0 24 24\"\n",
              "       width=\"24px\">\n",
              "    <path d=\"M0 0h24v24H0V0z\" fill=\"none\"/>\n",
              "    <path d=\"M18.56 5.44l.94 2.06.94-2.06 2.06-.94-2.06-.94-.94-2.06-.94 2.06-2.06.94zm-11 1L8.5 8.5l.94-2.06 2.06-.94-2.06-.94L8.5 2.5l-.94 2.06-2.06.94zm10 10l.94 2.06.94-2.06 2.06-.94-2.06-.94-.94-2.06-.94 2.06-2.06.94z\"/><path d=\"M17.41 7.96l-1.37-1.37c-.4-.4-.92-.59-1.43-.59-.52 0-1.04.2-1.43.59L10.3 9.45l-7.72 7.72c-.78.78-.78 2.05 0 2.83L4 21.41c.39.39.9.59 1.41.59.51 0 1.02-.2 1.41-.59l7.78-7.78 2.81-2.81c.8-.78.8-2.07 0-2.86zM5.41 20L4 18.59l7.72-7.72 1.47 1.35L5.41 20z\"/>\n",
              "  </svg>\n",
              "      </button>\n",
              "      \n",
              "  <style>\n",
              "    .colab-df-container {\n",
              "      display:flex;\n",
              "      flex-wrap:wrap;\n",
              "      gap: 12px;\n",
              "    }\n",
              "\n",
              "    .colab-df-convert {\n",
              "      background-color: #E8F0FE;\n",
              "      border: none;\n",
              "      border-radius: 50%;\n",
              "      cursor: pointer;\n",
              "      display: none;\n",
              "      fill: #1967D2;\n",
              "      height: 32px;\n",
              "      padding: 0 0 0 0;\n",
              "      width: 32px;\n",
              "    }\n",
              "\n",
              "    .colab-df-convert:hover {\n",
              "      background-color: #E2EBFA;\n",
              "      box-shadow: 0px 1px 2px rgba(60, 64, 67, 0.3), 0px 1px 3px 1px rgba(60, 64, 67, 0.15);\n",
              "      fill: #174EA6;\n",
              "    }\n",
              "\n",
              "    [theme=dark] .colab-df-convert {\n",
              "      background-color: #3B4455;\n",
              "      fill: #D2E3FC;\n",
              "    }\n",
              "\n",
              "    [theme=dark] .colab-df-convert:hover {\n",
              "      background-color: #434B5C;\n",
              "      box-shadow: 0px 1px 3px 1px rgba(0, 0, 0, 0.15);\n",
              "      filter: drop-shadow(0px 1px 2px rgba(0, 0, 0, 0.3));\n",
              "      fill: #FFFFFF;\n",
              "    }\n",
              "  </style>\n",
              "\n",
              "      <script>\n",
              "        const buttonEl =\n",
              "          document.querySelector('#df-24cef180-f228-4bcb-915a-472a5bb6264b button.colab-df-convert');\n",
              "        buttonEl.style.display =\n",
              "          google.colab.kernel.accessAllowed ? 'block' : 'none';\n",
              "\n",
              "        async function convertToInteractive(key) {\n",
              "          const element = document.querySelector('#df-24cef180-f228-4bcb-915a-472a5bb6264b');\n",
              "          const dataTable =\n",
              "            await google.colab.kernel.invokeFunction('convertToInteractive',\n",
              "                                                     [key], {});\n",
              "          if (!dataTable) return;\n",
              "\n",
              "          const docLinkHtml = 'Like what you see? Visit the ' +\n",
              "            '<a target=\"_blank\" href=https://colab.research.google.com/notebooks/data_table.ipynb>data table notebook</a>'\n",
              "            + ' to learn more about interactive tables.';\n",
              "          element.innerHTML = '';\n",
              "          dataTable['output_type'] = 'display_data';\n",
              "          await google.colab.output.renderOutput(dataTable, element);\n",
              "          const docLink = document.createElement('div');\n",
              "          docLink.innerHTML = docLinkHtml;\n",
              "          element.appendChild(docLink);\n",
              "        }\n",
              "      </script>\n",
              "    </div>\n",
              "  </div>\n",
              "  "
            ]
          },
          "metadata": {},
          "execution_count": 51
        }
      ]
    },
    {
      "cell_type": "code",
      "execution_count": 52,
      "metadata": {
        "id": "8ade9e1e-230c-461b-88ea-af063c723c6d",
        "scrolled": true,
        "colab": {
          "base_uri": "https://localhost:8080/"
        },
        "outputId": "decaadef-27b1-43dc-f19e-b2a455137a4c"
      },
      "outputs": [
        {
          "output_type": "execute_result",
          "data": {
            "text/plain": [
              "array(['high_value', 'low_value', 'medium_value'], dtype=object)"
            ]
          },
          "metadata": {},
          "execution_count": 52
        }
      ],
      "source": [
        "# 5b Enter your solution here\n",
        "RFM = df1[\"RFM\"]\n",
        "tercile = 3\n",
        "labels = [\"low_value\", \"medium_value\", \"high_value\"]  # OR [\"high_value\", \"medium_value\", \"low_value\"]\n",
        "# covert \"total_freq_purchase\" to \"Frequency(weights)\" and store in a new column\n",
        "df1[\"Customer_value\"] = pd.qcut(x=RFM, q=tercile, labels=labels, duplicates=\"drop\").astype(str)\n",
        "df1[\"Customer_value\"].unique()"
      ],
      "id": "8ade9e1e-230c-461b-88ea-af063c723c6d"
    },
    {
      "cell_type": "code",
      "source": [
        "# A catplot of Income vs Marital Status, with Customer values as the comparison\n",
        "\n",
        "g = sns.catplot(data=df1, x=\"Income\", y =\"Marital_Status\", row =\"Customer_value\", kind=\"box\", orient=\"h\",  sharex=False, margin_titles =\"True\", height=1.5, aspect=4)\n",
        "g.set(xlabel=\"Fare\", ylabel=\"\")\n",
        "g.set_titles(row_template=\"{row_name} Customer_value\")\n",
        "for ax in g.axes.flat:\n",
        "  ax.xaxis.set_major_formatter(\"${x: .0f}\")\n"
      ],
      "metadata": {
        "colab": {
          "base_uri": "https://localhost:8080/",
          "height": 472
        },
        "id": "bXDi6KvSaSbD",
        "outputId": "bd3170cc-a2ef-4ed4-b8e1-3ac92179655b"
      },
      "id": "bXDi6KvSaSbD",
      "execution_count": 76,
      "outputs": [
        {
          "output_type": "stream",
          "name": "stderr",
          "text": [
            "/usr/local/lib/python3.9/dist-packages/seaborn/axisgrid.py:88: UserWarning: Tight layout not applied. tight_layout cannot make axes height small enough to accommodate all axes decorations.\n",
            "  self._figure.tight_layout(*args, **kwargs)\n"
          ]
        },
        {
          "output_type": "display_data",
          "data": {
            "text/plain": [
              "<Figure size 432x324 with 3 Axes>"
            ],
            "image/png": "[encoded data removed]"
          },
          "metadata": {}
        }
      ]
    },
    {
      "cell_type": "code",
      "source": [
        "# plot a scatterplot applying a FacetGrid\n",
        "\n",
        "sns.catplot(data=df1, x=\"Marital_Status\", y =\"RFM\",hue =\"Customer_value\", kind=\"bar\")\n"
      ],
      "metadata": {
        "colab": {
          "base_uri": "https://localhost:8080/",
          "height": 382
        },
        "id": "7PeHqDu8TOJr",
        "outputId": "899c2e11-4d16-413e-8c79-d26c8014e068"
      },
      "id": "7PeHqDu8TOJr",
      "execution_count": 70,
      "outputs": [
        {
          "output_type": "execute_result",
          "data": {
            "text/plain": [
              "<seaborn.axisgrid.FacetGrid at 0x7f8bc734ee20>"
            ]
          },
          "metadata": {},
          "execution_count": 70
        },
        {
          "output_type": "display_data",
          "data": {
            "text/plain": [
              "<Figure size 480.6x360 with 1 Axes>"
            ],
            "image/png": "[encoded data removed]"
          },
          "metadata": {}
        }
      ]
    },
    {
      "cell_type": "code",
      "source": [
        "# check sample dataframe\n",
        "df1[[\"Recency(weights)\", \"Frequency(weights)\", \"Avg_amount(weights)\", \"RFM\", \"Customer_value\"]].sample(n=10, random_state=2).sort_values(by=\"RFM\", ascending=False)\n",
        "# Here, the higher the RFM_Value, the higher the customer value."
      ],
      "metadata": {
        "colab": {
          "base_uri": "https://localhost:8080/",
          "height": 363
        },
        "id": "A452TaY8p3IY",
        "outputId": "1f9222ad-7944-411d-d1d1-f08aaa796d28"
      },
      "id": "A452TaY8p3IY",
      "execution_count": null,
      "outputs": [
        {
          "output_type": "execute_result",
          "data": {
            "text/plain": [
              "     Recency(weights) Frequency(weights) Avg_amount(weights)         RFM  \\\n",
              "1891                0                  2   (256.033, 420.83]  226.287667   \n",
              "335                 3                  2    (154.33, 195.67]  127.333333   \n",
              "68                  4                  2   (105.898, 154.33]  100.742667   \n",
              "1600                1                  3     (66.0, 105.898]   61.632667   \n",
              "1459                1                  2     (66.0, 105.898]   61.299333   \n",
              "2161                1                  1      (32.432, 66.0]   36.477333   \n",
              "1026                2                  0     (15.17, 32.432]   22.534000   \n",
              "2088                4                  0       (9.17, 15.17]   21.446667   \n",
              "2053                2                  1       (9.17, 15.17]   15.113333   \n",
              "2019                1                  0      (0.829, 5.814]    5.547667   \n",
              "\n",
              "     Customer_value  \n",
              "1891     high_value  \n",
              "335      high_value  \n",
              "68       high_value  \n",
              "1600   medium_value  \n",
              "1459   medium_value  \n",
              "2161   medium_value  \n",
              "1026   medium_value  \n",
              "2088      low_value  \n",
              "2053      low_value  \n",
              "2019      low_value  "
            ],
            "text/html": [
              "\n",
              "  <div id=\"df-9edae3e7-0e18-4a82-b8d0-d971a9234e35\">\n",
              "    <div class=\"colab-df-container\">\n",
              "      <div>\n",
              "<style scoped>\n",
              "    .dataframe tbody tr th:only-of-type {\n",
              "        vertical-align: middle;\n",
              "    }\n",
              "\n",
              "    .dataframe tbody tr th {\n",
              "        vertical-align: top;\n",
              "    }\n",
              "\n",
              "    .dataframe thead th {\n",
              "        text-align: right;\n",
              "    }\n",
              "</style>\n",
              "<table border=\"1\" class=\"dataframe\">\n",
              "  <thead>\n",
              "    <tr style=\"text-align: right;\">\n",
              "      <th></th>\n",
              "      <th>Recency(weights)</th>\n",
              "      <th>Frequency(weights)</th>\n",
              "      <th>Avg_amount(weights)</th>\n",
              "      <th>RFM</th>\n",
              "      <th>Customer_value</th>\n",
              "    </tr>\n",
              "  </thead>\n",
              "  <tbody>\n",
              "    <tr>\n",
              "      <th>1891</th>\n",
              "      <td>0</td>\n",
              "      <td>2</td>\n",
              "      <td>(256.033, 420.83]</td>\n",
              "      <td>226.287667</td>\n",
              "      <td>high_value</td>\n",
              "    </tr>\n",
              "    <tr>\n",
              "      <th>335</th>\n",
              "      <td>3</td>\n",
              "      <td>2</td>\n",
              "      <td>(154.33, 195.67]</td>\n",
              "      <td>127.333333</td>\n",
              "      <td>high_value</td>\n",
              "    </tr>\n",
              "    <tr>\n",
              "      <th>68</th>\n",
              "      <td>4</td>\n",
              "      <td>2</td>\n",
              "      <td>(105.898, 154.33]</td>\n",
              "      <td>100.742667</td>\n",
              "      <td>high_value</td>\n",
              "    </tr>\n",
              "    <tr>\n",
              "      <th>1600</th>\n",
              "      <td>1</td>\n",
              "      <td>3</td>\n",
              "      <td>(66.0, 105.898]</td>\n",
              "      <td>61.632667</td>\n",
              "      <td>medium_value</td>\n",
              "    </tr>\n",
              "    <tr>\n",
              "      <th>1459</th>\n",
              "      <td>1</td>\n",
              "      <td>2</td>\n",
              "      <td>(66.0, 105.898]</td>\n",
              "      <td>61.299333</td>\n",
              "      <td>medium_value</td>\n",
              "    </tr>\n",
              "    <tr>\n",
              "      <th>2161</th>\n",
              "      <td>1</td>\n",
              "      <td>1</td>\n",
              "      <td>(32.432, 66.0]</td>\n",
              "      <td>36.477333</td>\n",
              "      <td>medium_value</td>\n",
              "    </tr>\n",
              "    <tr>\n",
              "      <th>1026</th>\n",
              "      <td>2</td>\n",
              "      <td>0</td>\n",
              "      <td>(15.17, 32.432]</td>\n",
              "      <td>22.534000</td>\n",
              "      <td>medium_value</td>\n",
              "    </tr>\n",
              "    <tr>\n",
              "      <th>2088</th>\n",
              "      <td>4</td>\n",
              "      <td>0</td>\n",
              "      <td>(9.17, 15.17]</td>\n",
              "      <td>21.446667</td>\n",
              "      <td>low_value</td>\n",
              "    </tr>\n",
              "    <tr>\n",
              "      <th>2053</th>\n",
              "      <td>2</td>\n",
              "      <td>1</td>\n",
              "      <td>(9.17, 15.17]</td>\n",
              "      <td>15.113333</td>\n",
              "      <td>low_value</td>\n",
              "    </tr>\n",
              "    <tr>\n",
              "      <th>2019</th>\n",
              "      <td>1</td>\n",
              "      <td>0</td>\n",
              "      <td>(0.829, 5.814]</td>\n",
              "      <td>5.547667</td>\n",
              "      <td>low_value</td>\n",
              "    </tr>\n",
              "  </tbody>\n",
              "</table>\n",
              "</div>\n",
              "      <button class=\"colab-df-convert\" onclick=\"convertToInteractive('df-9edae3e7-0e18-4a82-b8d0-d971a9234e35')\"\n",
              "              title=\"Convert this dataframe to an interactive table.\"\n",
              "              style=\"display:none;\">\n",
              "        \n",
              "  <svg xmlns=\"http://www.w3.org/2000/svg\" height=\"24px\"viewBox=\"0 0 24 24\"\n",
              "       width=\"24px\">\n",
              "    <path d=\"M0 0h24v24H0V0z\" fill=\"none\"/>\n",
              "    <path d=\"M18.56 5.44l.94 2.06.94-2.06 2.06-.94-2.06-.94-.94-2.06-.94 2.06-2.06.94zm-11 1L8.5 8.5l.94-2.06 2.06-.94-2.06-.94L8.5 2.5l-.94 2.06-2.06.94zm10 10l.94 2.06.94-2.06 2.06-.94-2.06-.94-.94-2.06-.94 2.06-2.06.94z\"/><path d=\"M17.41 7.96l-1.37-1.37c-.4-.4-.92-.59-1.43-.59-.52 0-1.04.2-1.43.59L10.3 9.45l-7.72 7.72c-.78.78-.78 2.05 0 2.83L4 21.41c.39.39.9.59 1.41.59.51 0 1.02-.2 1.41-.59l7.78-7.78 2.81-2.81c.8-.78.8-2.07 0-2.86zM5.41 20L4 18.59l7.72-7.72 1.47 1.35L5.41 20z\"/>\n",
              "  </svg>\n",
              "      </button>\n",
              "      \n",
              "  <style>\n",
              "    .colab-df-container {\n",
              "      display:flex;\n",
              "      flex-wrap:wrap;\n",
              "      gap: 12px;\n",
              "    }\n",
              "\n",
              "    .colab-df-convert {\n",
              "      background-color: #E8F0FE;\n",
              "      border: none;\n",
              "      border-radius: 50%;\n",
              "      cursor: pointer;\n",
              "      display: none;\n",
              "      fill: #1967D2;\n",
              "      height: 32px;\n",
              "      padding: 0 0 0 0;\n",
              "      width: 32px;\n",
              "    }\n",
              "\n",
              "    .colab-df-convert:hover {\n",
              "      background-color: #E2EBFA;\n",
              "      box-shadow: 0px 1px 2px rgba(60, 64, 67, 0.3), 0px 1px 3px 1px rgba(60, 64, 67, 0.15);\n",
              "      fill: #174EA6;\n",
              "    }\n",
              "\n",
              "    [theme=dark] .colab-df-convert {\n",
              "      background-color: #3B4455;\n",
              "      fill: #D2E3FC;\n",
              "    }\n",
              "\n",
              "    [theme=dark] .colab-df-convert:hover {\n",
              "      background-color: #434B5C;\n",
              "      box-shadow: 0px 1px 3px 1px rgba(0, 0, 0, 0.15);\n",
              "      filter: drop-shadow(0px 1px 2px rgba(0, 0, 0, 0.3));\n",
              "      fill: #FFFFFF;\n",
              "    }\n",
              "  </style>\n",
              "\n",
              "      <script>\n",
              "        const buttonEl =\n",
              "          document.querySelector('#df-9edae3e7-0e18-4a82-b8d0-d971a9234e35 button.colab-df-convert');\n",
              "        buttonEl.style.display =\n",
              "          google.colab.kernel.accessAllowed ? 'block' : 'none';\n",
              "\n",
              "        async function convertToInteractive(key) {\n",
              "          const element = document.querySelector('#df-9edae3e7-0e18-4a82-b8d0-d971a9234e35');\n",
              "          const dataTable =\n",
              "            await google.colab.kernel.invokeFunction('convertToInteractive',\n",
              "                                                     [key], {});\n",
              "          if (!dataTable) return;\n",
              "\n",
              "          const docLinkHtml = 'Like what you see? Visit the ' +\n",
              "            '<a target=\"_blank\" href=https://colab.research.google.com/notebooks/data_table.ipynb>data table notebook</a>'\n",
              "            + ' to learn more about interactive tables.';\n",
              "          element.innerHTML = '';\n",
              "          dataTable['output_type'] = 'display_data';\n",
              "          await google.colab.output.renderOutput(dataTable, element);\n",
              "          const docLink = document.createElement('div');\n",
              "          docLink.innerHTML = docLinkHtml;\n",
              "          element.appendChild(docLink);\n",
              "        }\n",
              "      </script>\n",
              "    </div>\n",
              "  </div>\n",
              "  "
            ]
          },
          "metadata": {},
          "execution_count": 235
        }
      ]
    },
    {
      "cell_type": "code",
      "execution_count": null,
      "metadata": {
        "id": "0d4325ff-9e9f-49ed-9005-318a4814c4e5"
      },
      "outputs": [],
      "source": [],
      "id": "0d4325ff-9e9f-49ed-9005-318a4814c4e5"
    },
    {
      "cell_type": "code",
      "execution_count": null,
      "metadata": {
        "id": "683f4981-5566-47cd-889c-712a1a09b5c0",
        "scrolled": true
      },
      "outputs": [],
      "source": [],
      "id": "683f4981-5566-47cd-889c-712a1a09b5c0"
    }
  ],
  "metadata": {
    "colab": {
      "provenance": [],
      "include_colab_link": true
    },
    "kernelspec": {
      "display_name": "Python(ds)",
      "language": "python",
      "name": "ds"
    },
    "language_info": {
      "codemirror_mode": {
        "name": "ipython",
        "version": 3
      },
      "file_extension": ".py",
      "mimetype": "text/x-python",
      "name": "python",
      "nbconvert_exporter": "python",
      "pygments_lexer": "ipython3",
      "version": "3.9.0"
    }
  },
  "nbformat": 4,
  "nbformat_minor": 5
}