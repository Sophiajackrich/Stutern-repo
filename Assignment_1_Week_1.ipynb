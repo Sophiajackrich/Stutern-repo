{
  "cells": [
    {
      "cell_type": "markdown",
      "metadata": {
        "id": "view-in-github",
        "colab_type": "text"
      },
      "source": [
        "<a href=\"https://colab.research.google.com/github/Sophiajackrich/Stutern-repo/blob/main/Assignment_1_Week_1.ipynb\" target=\"_parent\"><img src=\"https://colab.research.google.com/assets/colab-badge.svg\" alt=\"Open In Colab\"/></a>"
      ]
    },
    {
      "cell_type": "markdown",
      "id": "28c12f4a-512d-4a18-8640-45dd48ae8b3c",
      "metadata": {
        "id": "28c12f4a-512d-4a18-8640-45dd48ae8b3c"
      },
      "source": [
        "# Assignment 1 (Week 1)\n",
        "\n",
        ">**Note**: Late submissions are ***`penalized`***.\n",
        "\n",
        "## Name: JACKRICH SOPHIA"
      ]
    },
    {
      "cell_type": "code",
      "source": [
        "!pip install nb_black"
      ],
      "metadata": {
        "id": "AB6G2Gy7OZ_m",
        "outputId": "cf00f46f-c754-4215-f640-808308b7ccda",
        "colab": {
          "base_uri": "https://localhost:8080/"
        }
      },
      "id": "AB6G2Gy7OZ_m",
      "execution_count": null,
      "outputs": [
        {
          "output_type": "stream",
          "name": "stdout",
          "text": [
            "Looking in indexes: https://pypi.org/simple, https://us-python.pkg.dev/colab-wheels/public/simple/\n",
            "Collecting nb_black\n",
            "  Downloading nb_black-1.0.7.tar.gz (4.8 kB)\n",
            "  Preparing metadata (setup.py) ... \u001b[?25l\u001b[?25hdone\n",
            "Requirement already satisfied: ipython in /usr/local/lib/python3.8/dist-packages (from nb_black) (7.9.0)\n",
            "Collecting black>='19.3'\n",
            "  Downloading black-23.1.0-cp38-cp38-manylinux_2_17_x86_64.manylinux2014_x86_64.whl (1.6 MB)\n",
            "\u001b[2K     \u001b[90m━━━━━━━━━━━━━━━━━━━━━━━━━━━━━━━━━━━━━━━━\u001b[0m \u001b[32m1.6/1.6 MB\u001b[0m \u001b[31m18.8 MB/s\u001b[0m eta \u001b[36m0:00:00\u001b[0m\n",
            "\u001b[?25hRequirement already satisfied: platformdirs>=2 in /usr/local/lib/python3.8/dist-packages (from black>='19.3'->nb_black) (3.0.0)\n",
            "Collecting click>=8.0.0\n",
            "  Downloading click-8.1.3-py3-none-any.whl (96 kB)\n",
            "\u001b[2K     \u001b[90m━━━━━━━━━━━━━━━━━━━━━━━━━━━━━━━━━━━━━━━━\u001b[0m \u001b[32m96.6/96.6 KB\u001b[0m \u001b[31m10.5 MB/s\u001b[0m eta \u001b[36m0:00:00\u001b[0m\n",
            "\u001b[?25hCollecting mypy-extensions>=0.4.3\n",
            "  Downloading mypy_extensions-1.0.0-py3-none-any.whl (4.7 kB)\n",
            "Collecting pathspec>=0.9.0\n",
            "  Downloading pathspec-0.11.0-py3-none-any.whl (29 kB)\n",
            "Requirement already satisfied: tomli>=1.1.0 in /usr/local/lib/python3.8/dist-packages (from black>='19.3'->nb_black) (2.0.1)\n",
            "Requirement already satisfied: typing-extensions>=3.10.0.0 in /usr/local/lib/python3.8/dist-packages (from black>='19.3'->nb_black) (4.4.0)\n",
            "Requirement already satisfied: packaging>=22.0 in /usr/local/lib/python3.8/dist-packages (from black>='19.3'->nb_black) (23.0)\n",
            "Requirement already satisfied: traitlets>=4.2 in /usr/local/lib/python3.8/dist-packages (from ipython->nb_black) (5.7.1)\n",
            "Requirement already satisfied: decorator in /usr/local/lib/python3.8/dist-packages (from ipython->nb_black) (4.4.2)\n",
            "Requirement already satisfied: pickleshare in /usr/local/lib/python3.8/dist-packages (from ipython->nb_black) (0.7.5)\n",
            "Collecting jedi>=0.10\n",
            "  Downloading jedi-0.18.2-py2.py3-none-any.whl (1.6 MB)\n",
            "\u001b[2K     \u001b[90m━━━━━━━━━━━━━━━━━━━━━━━━━━━━━━━━━━━━━━━━\u001b[0m \u001b[32m1.6/1.6 MB\u001b[0m \u001b[31m67.0 MB/s\u001b[0m eta \u001b[36m0:00:00\u001b[0m\n",
            "\u001b[?25hRequirement already satisfied: pygments in /usr/local/lib/python3.8/dist-packages (from ipython->nb_black) (2.6.1)\n",
            "Requirement already satisfied: backcall in /usr/local/lib/python3.8/dist-packages (from ipython->nb_black) (0.2.0)\n",
            "Requirement already satisfied: pexpect in /usr/local/lib/python3.8/dist-packages (from ipython->nb_black) (4.8.0)\n",
            "Requirement already satisfied: setuptools>=18.5 in /usr/local/lib/python3.8/dist-packages (from ipython->nb_black) (57.4.0)\n",
            "Requirement already satisfied: prompt-toolkit<2.1.0,>=2.0.0 in /usr/local/lib/python3.8/dist-packages (from ipython->nb_black) (2.0.10)\n",
            "Requirement already satisfied: parso<0.9.0,>=0.8.0 in /usr/local/lib/python3.8/dist-packages (from jedi>=0.10->ipython->nb_black) (0.8.3)\n",
            "Requirement already satisfied: wcwidth in /usr/local/lib/python3.8/dist-packages (from prompt-toolkit<2.1.0,>=2.0.0->ipython->nb_black) (0.2.6)\n",
            "Requirement already satisfied: six>=1.9.0 in /usr/local/lib/python3.8/dist-packages (from prompt-toolkit<2.1.0,>=2.0.0->ipython->nb_black) (1.15.0)\n",
            "Requirement already satisfied: ptyprocess>=0.5 in /usr/local/lib/python3.8/dist-packages (from pexpect->ipython->nb_black) (0.7.0)\n",
            "Building wheels for collected packages: nb_black\n",
            "  Building wheel for nb_black (setup.py) ... \u001b[?25l\u001b[?25hdone\n",
            "  Created wheel for nb_black: filename=nb_black-1.0.7-py3-none-any.whl size=5298 sha256=7fd16bdb2b8eeebacc1f4dddc16b956c2ecc04368e13488c3638d0bf72293f25\n",
            "  Stored in directory: /root/.cache/pip/wheels/a6/5e/1e/a15614d6ea220d070043db3b650d73a8b4938aefd520496c11\n",
            "Successfully built nb_black\n",
            "Installing collected packages: pathspec, mypy-extensions, jedi, click, black, nb_black\n",
            "  Attempting uninstall: click\n",
            "    Found existing installation: click 7.1.2\n",
            "    Uninstalling click-7.1.2:\n",
            "      Successfully uninstalled click-7.1.2\n",
            "\u001b[31mERROR: pip's dependency resolver does not currently take into account all the packages that are installed. This behaviour is the source of the following dependency conflicts.\n",
            "flask 1.1.4 requires click<8.0,>=5.1, but you have click 8.1.3 which is incompatible.\u001b[0m\u001b[31m\n",
            "\u001b[0mSuccessfully installed black-23.1.0 click-8.1.3 jedi-0.18.2 mypy-extensions-1.0.0 nb_black-1.0.7 pathspec-0.11.0\n"
          ]
        }
      ]
    },
    {
      "cell_type": "code",
      "execution_count": null,
      "id": "5aba3d86-630f-4a40-bbf6-6e3cde1e44b9",
      "metadata": {
        "id": "5aba3d86-630f-4a40-bbf6-6e3cde1e44b9"
      },
      "outputs": [],
      "source": [
        "# Black code formatter (Optional)\n",
        "# $ pip install nb_black\n",
        "%load_ext lab_black\n",
        "\n",
        "# auto reload imports\n",
        "%load_ext autoreload\n",
        "%autoreload 2\n",
        "\n",
        "# Import libraries\n",
        "import numpy\n",
        "from random import randint"
      ]
    },
    {
      "cell_type": "markdown",
      "id": "c5f5ad77-c752-4093-b190-919063786c35",
      "metadata": {
        "id": "c5f5ad77-c752-4093-b190-919063786c35"
      },
      "source": [
        "## Qs 1: \n",
        "\n",
        "Create a class **`Die`** with one attribute called sides, which has a default value of 6. Write a method called `roll_die()` that prints a random number between **1** and the **number of sides** the die has. Make a **6-sided** die and roll it **4** times."
      ]
    },
    {
      "cell_type": "code",
      "execution_count": null,
      "id": "38322314-a896-46e0-b2ba-4e6415487559",
      "metadata": {
        "id": "38322314-a896-46e0-b2ba-4e6415487559"
      },
      "outputs": [],
      "source": [
        "# Write your solution here\n",
        "class Die():\n",
        "    \"\"\"Represent a die, which can be rolled.\"\"\"\n",
        "\n",
        "    def __init__(self, sides=6):\n",
        "        \"\"\"Initialize the die.\"\"\"\n",
        "        self.sides = sides\n",
        "\n",
        "    def roll_die(self):\n",
        "        \"\"\"Return a number between 1 and the number of sides.\"\"\"\n",
        "        return randint(1, self.sides)"
      ]
    },
    {
      "cell_type": "code",
      "source": [
        "# Make a 6-sided die, and show the results of 4 rolls.\n",
        "dice = Die()\n",
        "\n",
        "results = []\n",
        "for num in range(4):\n",
        "    result = dice.roll_die()\n",
        "    results.append(result)\n",
        "print(\"Four rolls of a 6-sided die:\")\n",
        "print(results)\n"
      ],
      "metadata": {
        "id": "cYTZ_sG6T2UV",
        "outputId": "d9f24ff6-e5f5-4272-9e1a-3b3e4d052d87",
        "colab": {
          "base_uri": "https://localhost:8080/"
        }
      },
      "id": "cYTZ_sG6T2UV",
      "execution_count": null,
      "outputs": [
        {
          "output_type": "stream",
          "name": "stdout",
          "text": [
            "Four rolls of a 6-sided die:\n",
            "[3, 6, 6, 6]\n"
          ]
        }
      ]
    },
    {
      "cell_type": "code",
      "execution_count": null,
      "id": "d1a517b1-7062-46db-ab56-a3fc9015fe80",
      "metadata": {
        "id": "d1a517b1-7062-46db-ab56-a3fc9015fe80"
      },
      "outputs": [],
      "source": [
        "class Die(object) :\n",
        "    \"\"\" initialize the attribute called sides, and the number_rolled. \"\"\"\n",
        "    def __init__(self, sides= 6) :\n",
        "        self.sides = sides\n",
        "        self.number_rolled = 0\n",
        "\n",
        "    def roll_die(self) :\n",
        "        self.number_rolled = randint(1, int(self.sides))\n",
        "        print(f\"My dice rolled the number :  {self.number_rolled}\")\n",
        "        return self.number_rolled"
      ]
    },
    {
      "cell_type": "code",
      "source": [
        "dice = Die()\n",
        "\n",
        "results = []\n",
        "for roll_num in range(1,5):\n",
        "  result = dice.roll_die()\n",
        "  results.append(result)\n",
        "print(results)\n"
      ],
      "metadata": {
        "id": "djiCIdiqXgiF",
        "outputId": "4a47db8a-6d42-4b4c-f2b0-16315d7f89ec",
        "colab": {
          "base_uri": "https://localhost:8080/"
        }
      },
      "id": "djiCIdiqXgiF",
      "execution_count": null,
      "outputs": [
        {
          "output_type": "stream",
          "name": "stdout",
          "text": [
            "My dice rolled the number :  2\n",
            "My dice rolled the number :  2\n",
            "My dice rolled the number :  3\n",
            "My dice rolled the number :  3\n",
            "[2, 2, 3, 3]\n"
          ]
        }
      ]
    },
    {
      "cell_type": "code",
      "execution_count": null,
      "id": "cc40be86-90e0-4d95-ab3f-a7e299c73127",
      "metadata": {
        "id": "cc40be86-90e0-4d95-ab3f-a7e299c73127"
      },
      "outputs": [],
      "source": [
        "# Write your solution here"
      ]
    },
    {
      "cell_type": "code",
      "execution_count": null,
      "id": "738525e7-1d88-4a4d-8321-80d5df6f115a",
      "metadata": {
        "id": "738525e7-1d88-4a4d-8321-80d5df6f115a"
      },
      "outputs": [],
      "source": [
        "# Write your solution here"
      ]
    },
    {
      "cell_type": "code",
      "execution_count": null,
      "id": "12ab517e-1921-4606-a6f3-ee14df19f00a",
      "metadata": {
        "id": "12ab517e-1921-4606-a6f3-ee14df19f00a"
      },
      "outputs": [],
      "source": []
    },
    {
      "cell_type": "markdown",
      "id": "3cfe6485-0967-465b-b47a-c5e83c7d6a68",
      "metadata": {
        "tags": [],
        "id": "3cfe6485-0967-465b-b47a-c5e83c7d6a68"
      },
      "source": [
        "## Qs 2: \n",
        "\n",
        "Write a function called `checker()` that accepts a number between 1 and N. Your function should print **Yes** if the number is divisible by 3, **Okay** if the number is divisible by 4 and **Perfect** if the number is divisible by 12. Test your function with **2** examples as shown below:\n",
        "\n",
        "```python\n",
        "\n",
        "def checker(number: int) -> None:\n",
        "    pass\n",
        "\n",
        "checker(number=13)\n",
        "\n",
        "# 3: Yes\n",
        "# 4: Okay\n",
        "# 6: Yes\n",
        "# 8: Okay\n",
        "# 9: Yes\n",
        "# 12: Perfect\n",
        "\n",
        "checker(number=30)\n",
        "```"
      ]
    },
    {
      "cell_type": "code",
      "execution_count": null,
      "id": "2e89f2f2-d0b0-4ca8-8971-58a5b5d0ce4b",
      "metadata": {
        "id": "2e89f2f2-d0b0-4ca8-8971-58a5b5d0ce4b"
      },
      "outputs": [],
      "source": [
        "# Write your solution here\n",
        "def checker(num: int) -> None:\n",
        "  \"\"\"\"This function accepts two arguments and check for divisibilty and returns result\"\"\"\n",
        "  if num % 3 == 0:\n",
        "    return 'Yes'\n",
        "  elif num % 4 == 0:\n",
        "    return 'Okay'\n",
        "  elif num % 12 == 0:\n",
        "    return 'Perfect' \n",
        "  "
      ]
    },
    {
      "cell_type": "code",
      "execution_count": null,
      "id": "d54bf804-5776-45c1-ae47-14ce56c0bc61",
      "metadata": {
        "colab": {
          "base_uri": "https://localhost:8080/"
        },
        "id": "d54bf804-5776-45c1-ae47-14ce56c0bc61",
        "outputId": "69be4520-5240-411d-f35a-f998de155100"
      },
      "outputs": [
        {
          "output_type": "stream",
          "name": "stdout",
          "text": [
            "This is the output is: Okay\n"
          ]
        }
      ],
      "source": [
        "# Write your solution here\n",
        "result = checker(num = 16)\n",
        "print(f\"This is the output is: {result}\")\n"
      ]
    },
    {
      "cell_type": "code",
      "source": [
        "result = checker(num = 8)\n",
        "print(result)"
      ],
      "metadata": {
        "id": "KFv5e__wurrp",
        "outputId": "2ddc62a1-6040-4241-dd37-0966e892bc1d",
        "colab": {
          "base_uri": "https://localhost:8080/"
        }
      },
      "id": "KFv5e__wurrp",
      "execution_count": null,
      "outputs": [
        {
          "output_type": "stream",
          "name": "stdout",
          "text": [
            "Okay\n"
          ]
        }
      ]
    },
    {
      "cell_type": "markdown",
      "id": "91c78281-195b-4248-b2ca-86bb330a8b73",
      "metadata": {
        "id": "91c78281-195b-4248-b2ca-86bb330a8b73"
      },
      "source": [
        "## Qs 3: \n",
        "\n",
        "Create a class called `MeanOrMedian`. Implement two methods in your class `calculate_mean()` and `calculate_median()` that calculates the **`mean`** and the **`median`** respectively given a list. Instantiate the class `MeanOrMedian` and test the **2** `mean` and `median` methods."
      ]
    },
    {
      "cell_type": "code",
      "source": [
        "import numpy as np"
      ],
      "metadata": {
        "id": "pRvvNffh40QH"
      },
      "id": "pRvvNffh40QH",
      "execution_count": null,
      "outputs": []
    },
    {
      "cell_type": "code",
      "execution_count": null,
      "id": "c111ac13-e041-4424-a593-67b977983a5f",
      "metadata": {
        "id": "c111ac13-e041-4424-a593-67b977983a5f"
      },
      "outputs": [],
      "source": [
        "# Write your solution here\n",
        "class MeanOrMedian:\n",
        "  \"\"\" initialize the attribute called number(num), and the num is an empty list. \"\"\"\n",
        "  def __init__(self, num=[]):\n",
        "    self.num = num\n",
        "  def calculate_mean(self):\n",
        "    return \"The mean is:\", sum(self.num)/len(self.num)    \n",
        "  def calculate_median(self):\n",
        "    return \"The median is:\", np.median(self.num)"
      ]
    },
    {
      "cell_type": "code",
      "source": [
        "## creating an instance of the class\n",
        "instance = MeanOrMedian()\n",
        "\n",
        "instance.num = [4, 8, 0] # Inputting the values to be calculated in a list and passing it to num\n",
        "\n",
        "instance.calculate_mean()"
      ],
      "metadata": {
        "id": "h_SuXrUJahYC",
        "outputId": "2e56d51f-4fcc-445d-a971-44ef5e765826",
        "colab": {
          "base_uri": "https://localhost:8080/"
        }
      },
      "id": "h_SuXrUJahYC",
      "execution_count": null,
      "outputs": [
        {
          "output_type": "execute_result",
          "data": {
            "text/plain": [
              "('The mean is:', 4.0)"
            ]
          },
          "metadata": {},
          "execution_count": 31
        }
      ]
    },
    {
      "cell_type": "code",
      "source": [
        "instance.calculate_median()"
      ],
      "metadata": {
        "id": "jHfP3e2Zbkk_",
        "outputId": "6256a987-2835-473f-8a6a-4e1964bfecbc",
        "colab": {
          "base_uri": "https://localhost:8080/"
        }
      },
      "id": "jHfP3e2Zbkk_",
      "execution_count": null,
      "outputs": [
        {
          "output_type": "execute_result",
          "data": {
            "text/plain": [
              "('The median is:', 4.0)"
            ]
          },
          "metadata": {},
          "execution_count": 32
        }
      ]
    },
    {
      "cell_type": "markdown",
      "id": "755910de-cce0-49eb-b8d0-54fc7e30460a",
      "metadata": {
        "id": "755910de-cce0-49eb-b8d0-54fc7e30460a"
      },
      "source": [
        "## Qs 4:\n",
        "\n",
        "Write a program to create the function called `solver()`, which can accept two variables and perform **multiplication** and **division**. It must also return both **multiplication** and **division** in the same return call. Call the function using **two** different examples."
      ]
    },
    {
      "cell_type": "code",
      "execution_count": null,
      "id": "17630778-8b55-4fd8-a2c1-198072e1e595",
      "metadata": {
        "id": "17630778-8b55-4fd8-a2c1-198072e1e595"
      },
      "outputs": [],
      "source": [
        "# Write your solution here\n",
        "def solver(x, y):\n",
        "  mult = x * y\n",
        "  div = x / y\n",
        "  return 'The multiplication of {0} and {1} gives {2} while the division of {0} and {1} gives {3}'.format(x, y, mult, div)\n"
      ]
    },
    {
      "cell_type": "code",
      "execution_count": null,
      "id": "c2a37e8f-2043-4187-b213-c73e22f77218",
      "metadata": {
        "id": "c2a37e8f-2043-4187-b213-c73e22f77218",
        "colab": {
          "base_uri": "https://localhost:8080/",
          "height": 36
        },
        "outputId": "f2378cc5-e3a9-466e-f002-24e98b91da62"
      },
      "outputs": [
        {
          "output_type": "execute_result",
          "data": {
            "text/plain": [
              "'The multiplication of 5 and 6 gives 30 while the division of 5 and 6 gives 0.8333333333333334'"
            ],
            "application/vnd.google.colaboratory.intrinsic+json": {
              "type": "string"
            }
          },
          "metadata": {},
          "execution_count": 27
        }
      ],
      "source": [
        "# Write your solution here\n",
        "result = solver(5,6)\n",
        "result"
      ]
    },
    {
      "cell_type": "code",
      "source": [
        "# Write your solution here\n",
        "result = solver(10,5)\n",
        "result"
      ],
      "metadata": {
        "colab": {
          "base_uri": "https://localhost:8080/",
          "height": 36
        },
        "id": "dsMRKg8hAdV5",
        "outputId": "a612db7a-809d-4f0a-f60c-bc1fef0a434e"
      },
      "id": "dsMRKg8hAdV5",
      "execution_count": null,
      "outputs": [
        {
          "output_type": "execute_result",
          "data": {
            "text/plain": [
              "'The multiplication of 10 and 5 gives 50 while the division of 10 and 5 gives 2.0'"
            ],
            "application/vnd.google.colaboratory.intrinsic+json": {
              "type": "string"
            }
          },
          "metadata": {},
          "execution_count": 29
        }
      ]
    },
    {
      "cell_type": "markdown",
      "id": "11fd8120-de4e-41c6-a9a6-8301347ce936",
      "metadata": {
        "id": "11fd8120-de4e-41c6-a9a6-8301347ce936"
      },
      "source": [
        "## Qs 5:\n",
        "\n",
        "Given the dictionary below, extract the following:\n",
        "\n",
        "a.`name`\n",
        "\n",
        "b. `height,width`\n",
        "\n",
        "c. `size`\n",
        "\n",
        "\n",
        "\n",
        "```python\n",
        "\n",
        "my_dict = {\n",
        "   \"id\": \"001\",\n",
        "   \"name\": \"dog\",\n",
        "   \"image\":\n",
        "      {\n",
        "         \"url\": \"images/001.jpg\",\n",
        "\n",
        "            \"thumbnail\":\n",
        "               {\n",
        "                  \"url\": \"images/thumbnails/001.jpg\",\n",
        "                  \"height,width\": \"3x6\"\n",
        "               },\n",
        "          \"size\": \"30 kB\"\n",
        "      }\n",
        "}\n",
        "\n",
        "```"
      ]
    },
    {
      "cell_type": "code",
      "execution_count": null,
      "id": "b2ba6099-5668-4647-bc93-ad620bfb6be0",
      "metadata": {
        "id": "b2ba6099-5668-4647-bc93-ad620bfb6be0"
      },
      "outputs": [],
      "source": [
        "\n",
        "my_dict = {\n",
        "   \"id\": \"001\",\n",
        "   \"name\": \"dog\",\n",
        "   \"image\":\n",
        "      {\n",
        "         \"url\": \"images/001.jpg\",\n",
        "\n",
        "            \"thumbnail\":\n",
        "               {\n",
        "                  \"url\": \"images/thumbnails/001.jpg\",\n",
        "                  \"height,width\": \"3x6\"\n",
        "               },\n",
        "          \"size\": \"30 kB\"\n",
        "      }\n",
        "}"
      ]
    },
    {
      "cell_type": "code",
      "execution_count": null,
      "id": "ee8d8a36-ead3-4ca0-b98f-96864c7c7ebf",
      "metadata": {
        "id": "ee8d8a36-ead3-4ca0-b98f-96864c7c7ebf",
        "colab": {
          "base_uri": "https://localhost:8080/",
          "height": 36
        },
        "outputId": "a4c82bc7-8806-4312-c1fa-b6e0e213a51c"
      },
      "outputs": [
        {
          "output_type": "execute_result",
          "data": {
            "text/plain": [
              "'dog'"
            ],
            "application/vnd.google.colaboratory.intrinsic+json": {
              "type": "string"
            }
          },
          "metadata": {},
          "execution_count": 3
        }
      ],
      "source": [
        "# Write your solution here\n",
        "my_dict.get('name')"
      ]
    },
    {
      "cell_type": "code",
      "execution_count": null,
      "id": "1bfbcb4a-3390-46a9-87a4-3c60b2c5e8f2",
      "metadata": {
        "id": "1bfbcb4a-3390-46a9-87a4-3c60b2c5e8f2",
        "colab": {
          "base_uri": "https://localhost:8080/",
          "height": 36
        },
        "outputId": "9c8b1460-3716-4476-bc69-b38d6d7b4e36"
      },
      "outputs": [
        {
          "output_type": "execute_result",
          "data": {
            "text/plain": [
              "'3x6'"
            ],
            "application/vnd.google.colaboratory.intrinsic+json": {
              "type": "string"
            }
          },
          "metadata": {},
          "execution_count": 7
        }
      ],
      "source": [
        "# Write your solution here\n",
        "my_dict.get('image').get('thumbnail').get('height,width')"
      ]
    },
    {
      "cell_type": "code",
      "execution_count": null,
      "id": "53b7d128-d505-479e-ba13-545d173f80ac",
      "metadata": {
        "id": "53b7d128-d505-479e-ba13-545d173f80ac",
        "colab": {
          "base_uri": "https://localhost:8080/",
          "height": 36
        },
        "outputId": "e2c349e5-f02f-4e6c-ed3e-5e76681a2a35"
      },
      "outputs": [
        {
          "output_type": "execute_result",
          "data": {
            "text/plain": [
              "'30 kB'"
            ],
            "application/vnd.google.colaboratory.intrinsic+json": {
              "type": "string"
            }
          },
          "metadata": {},
          "execution_count": 8
        }
      ],
      "source": [
        "# Write your solution here\n",
        "my_dict.get('image').get('size')"
      ]
    },
    {
      "cell_type": "code",
      "execution_count": null,
      "id": "429f4ee7-7d56-47ed-b729-d03f0ad1b865",
      "metadata": {
        "id": "429f4ee7-7d56-47ed-b729-d03f0ad1b865"
      },
      "outputs": [],
      "source": []
    },
    {
      "cell_type": "code",
      "execution_count": null,
      "id": "7d991ca7-cd81-42b4-922f-2d3a98fc514d",
      "metadata": {
        "id": "7d991ca7-cd81-42b4-922f-2d3a98fc514d"
      },
      "outputs": [],
      "source": []
    },
    {
      "cell_type": "code",
      "execution_count": null,
      "id": "e7633399-c0c2-4e74-af78-155dab778b99",
      "metadata": {
        "id": "e7633399-c0c2-4e74-af78-155dab778b99"
      },
      "outputs": [],
      "source": []
    }
  ],
  "metadata": {
    "kernelspec": {
      "display_name": "Python(ds)",
      "language": "python",
      "name": "ds"
    },
    "language_info": {
      "codemirror_mode": {
        "name": "ipython",
        "version": 3
      },
      "file_extension": ".py",
      "mimetype": "text/x-python",
      "name": "python",
      "nbconvert_exporter": "python",
      "pygments_lexer": "ipython3",
      "version": "3.9.0"
    },
    "colab": {
      "provenance": [],
      "include_colab_link": true
    }
  },
  "nbformat": 4,
  "nbformat_minor": 5
}