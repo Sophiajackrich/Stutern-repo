{
 "cells": [
  {
   "cell_type": "markdown",
   "metadata": {
    "id": "7d17c003-b142-4e1a-b48f-21d29ec3dbaa"
   },
   "source": [
    "# Module 2 (Assignment)"
   ]
  },
  {
   "cell_type": "markdown",
   "metadata": {
    "id": "c4e0ade3-8b31-4601-93a6-64d4f5746c00"
   },
   "source": [
    "### Qs 1. \n",
    "a. Write a function called `make_album()` that builds a dictionary describing a music album. The function should take in an artist name and an\n",
    "album title, and it should return a dictionary containing these two pieces of information. Use the function to make three dictionaries representing different albums. \n",
    "Print each return value to show that the dictionaries are storing the \n",
    "album information correctly.\n",
    "    \n",
    "b. Use `None` to add an optional parameter to `make_album()` that allows you to store the number of songs on an album. If the calling line includes a value for\n",
    "the number of songs, add that value to the album’s dictionary. Make at least one new function call that includes the number of songs on an album.\n",
    "\n",
    "    \n",
    "c. Write an updated version of the function above called `make_album_updated()` that accepts the ***required*** arguments `artist_name`, `album_title`, `num_of_songs` and some ***arbitrary optional*** arguments like `year_released`, etc."
   ]
  },
  {
   "cell_type": "code",
   "execution_count": 1,
   "metadata": {
    "colab": {
     "base_uri": "https://localhost:8080/"
    },
    "id": "ad9150c6-90a8-4dfa-81b2-c0c4365012ac",
    "outputId": "59adbd78-7496-4737-840c-663aa0076e08",
    "scrolled": true
   },
   "outputs": [
    {
     "name": "stdout",
     "output_type": "stream",
     "text": [
      "{'artist': 'Tylor_Swift', 'title': 'Midnights'}\n",
      "{'artist': 'Ed_Sheeran', 'title': 'Lonely_Lover'}\n",
      "{'artist': 'Sam_Smith', 'title': 'Unholy'}\n"
     ]
    }
   ],
   "source": [
    "# Enter your code here\n",
    "def make_album(artist, title):\n",
    "  album_dict = {\n",
    "      \"artist\" : artist.title(),\n",
    "      \"title\" : title.title(),\n",
    "  }\n",
    "  return album_dict\n",
    "artist = make_album(\"Tylor_Swift\", \"Midnights\")\n",
    "artist1 = make_album(\"Ed_Sheeran\", \"Lonely_lover\")\n",
    "artist2 = make_album(\"Sam_Smith\", \"Unholy\")\n",
    "\n",
    "print(artist)\n",
    "print(artist1)\n",
    "print(artist2)\n",
    "\n"
   ]
  },
  {
   "cell_type": "code",
   "execution_count": 7,
   "metadata": {
    "colab": {
     "base_uri": "https://localhost:8080/"
    },
    "id": "3BXw4k4Uda6X",
    "outputId": "d3e13e29-9119-4970-c25b-1d91cb9f7328"
   },
   "outputs": [
    {
     "name": "stdout",
     "output_type": "stream",
     "text": [
      "{'artist': 'Tylor_Swift', 'title': 'Midnights', 'track': 2}\n",
      "{'artist': 'Ed_Sheeran', 'title': 'Lonely_Lover', 'track': 4}\n",
      "{'artist': 'Sam_Smith', 'title': 'Unholy', 'track': 1}\n",
      "{'artist': 'Tems', 'title': 'If_Orange_Was_A_Place', 'track': 1}\n"
     ]
    }
   ],
   "source": [
    "# b. Add a Track argument to include in the dictionary\n",
    "def make_album(artist, title, track=None):\n",
    "  album_dict = {\n",
    "      \"artist\" : artist.title(),\n",
    "      \"title\" : title.title(),\n",
    "  }\n",
    "  if track:\n",
    "    album_dict[\"track\"] = track\n",
    "\n",
    "  return album_dict\n",
    "artist = make_album(\"Tylor_Swift\", \"Midnights\", track = 2)\n",
    "artist1 = make_album(\"Ed_Sheeran\", \"Lonely_lover\", track = 4)\n",
    "artist2 = make_album(\"Sam_Smith\", \"Unholy\", track = 1)\n",
    "artist3 = make_album(\"Tems\", \"If_Orange_Was_a_Place\", track = 1)\n",
    "\n",
    "print(artist)\n",
    "print(artist1)\n",
    "print(artist2)\n",
    "print(artist3)"
   ]
  },
  {
   "cell_type": "code",
   "execution_count": 6,
   "metadata": {
    "colab": {
     "base_uri": "https://localhost:8080/"
    },
    "id": "-nm3dy9bfFHl",
    "outputId": "c93d2baf-f064-44ac-f970-e57e2ea25dc2"
   },
   "outputs": [
    {
     "name": "stdout",
     "output_type": "stream",
     "text": [
      "Enter 'quit' at any time to stop.\n"
     ]
    },
    {
     "name": "stdin",
     "output_type": "stream",
     "text": [
      "\n",
      "What album is your taste?  Midnights\n",
      "Who's the artist?  Taylor Swift\n",
      "\n",
      "Which track? 1\n",
      "\n",
      "What year? 2022\n"
     ]
    },
    {
     "name": "stdout",
     "output_type": "stream",
     "text": [
      "{'artist': 'Taylor Swift', 'title': 'Midnights', 'tracks': '1', 'year': '2022'}\n"
     ]
    },
    {
     "name": "stdin",
     "output_type": "stream",
     "text": [
      "\n",
      "What album is your taste?  quit\n"
     ]
    },
    {
     "name": "stdout",
     "output_type": "stream",
     "text": [
      "\n",
      "Cool Choice!\n"
     ]
    }
   ],
   "source": [
    "# C. create an updated version and add one more argument to the dunction\n",
    "def make_album(artist, title, tracks=None, year=None):\n",
    "    album_dict = {\n",
    "        'artist': artist.title(),\n",
    "        'title': title.title(),\n",
    "        }\n",
    "    if tracks:\n",
    "        album_dict['tracks'] = tracks\n",
    "    if year:\n",
    "      album_dict['year'] = year\n",
    "\n",
    "    return album_dict\n",
    "\n",
    "# Prepare the prompts.\n",
    "title_prompt = \"\\nWhat album is your taste? \"\n",
    "artist_prompt = \"Who's the artist? \"\n",
    "track_prompt = \"\\nWhich track?\"\n",
    "year_prompt = \"\\nWhat year?\"\n",
    "\n",
    "# Let the user know how to quit.\n",
    "print(\"Enter 'quit' at any time to stop.\")\n",
    "\n",
    "while True:\n",
    "    title = input(title_prompt)\n",
    "    if title == 'quit':\n",
    "        break\n",
    "    \n",
    "    artist = input(artist_prompt)\n",
    "    if artist == 'quit':\n",
    "        break\n",
    "    track = input(track_prompt)\n",
    "    if track == 'quit':\n",
    "        break\n",
    "    year = input(year_prompt)\n",
    "    if year == 'quit':\n",
    "        break\n",
    "\n",
    "    album = make_album(artist, title, track, year)\n",
    "    print(album)\n",
    "\n",
    "\n",
    "print(\"\\nCool Choice!\")"
   ]
  },
  {
   "cell_type": "markdown",
   "metadata": {
    "id": "d7084130-c60d-4f91-9bea-a4426b620935"
   },
   "source": [
    "### Qs 2. \n",
    "\n",
    "* Write an `if-elif-else` chain that determines a person’s stage of life. Set a value for the variable `age`, and then:\n",
    "    * If the person is ***less than 2 years old***, print a message that the person is a ***baby***.\n",
    "    * If the person is ***at least 2 years old but less than 4***, print a message that the person is a ***toddler***.\n",
    "    * If the person is ***at least 4 years old but less than 13***, print a message that the person is a ***kid***.\n",
    "    * If the person is ***at least 13 years old but less than 20***, print a message that the person is a ***teenager***.\n",
    "    * If the person is ***at least 20 years old but less than 65***, print a message that the person is an ***adult***.\n",
    "    * If the person is ***age 65 or older***, print a message that the person is an ***elder***."
   ]
  },
  {
   "cell_type": "code",
   "execution_count": 5,
   "metadata": {
    "colab": {
     "base_uri": "https://localhost:8080/"
    },
    "id": "97c56b2a-1395-4894-be9f-7739aa190dea",
    "outputId": "1d1038df-a281-40d4-a5b5-f73ccd96bfd0",
    "scrolled": true
   },
   "outputs": [
    {
     "name": "stdout",
     "output_type": "stream",
     "text": [
      "Enter your age: 22\n",
      "Hey Friend!, You are an Adult.\n"
     ]
    }
   ],
   "source": [
    "# Enter your code here\n",
    "age = int(input(\"Enter your age: \"))\n",
    "if age < 2:\n",
    "  print(\"Hey Friend!, You are a baby.\")\n",
    "elif age <= 3:\n",
    "  print(\"Hey Friend!, You are a Toddler.\")\n",
    "elif age <= 12:\n",
    "  print(\"Hey Friend!, You are a Kid.\")\n",
    "elif age <= 19:\n",
    "  print(\"Hey Friend!, You are a Teenager.\")\n",
    "elif age <= 64:\n",
    "  print(\"Hey Friend!, You are an Adult.\")\n",
    "else:\n",
    "  age >= 65\n",
    "  print(\"Hey Friend!, You are a Elder.\")"
   ]
  },
  {
   "cell_type": "markdown",
   "metadata": {
    "id": "e9728419-f5b9-47c2-bca4-161094de2718"
   },
   "source": [
    "### Qs 3. \n",
    "Given the string **\"For the winter break I had a list of stories I wanted to write\"**. Write a program that:\n",
    "\n",
    "a. creates a ***list*** containing each word as an element in the list.\n",
    "\n",
    "b. turns all the ***words*** in the string to ***title casing***.\n",
    "\n",
    "c. turns all the ***words*** in the string to ***upper casing***."
   ]
  },
  {
   "cell_type": "code",
   "execution_count": 5,
   "metadata": {
    "colab": {
     "base_uri": "https://localhost:8080/"
    },
    "id": "5aec5259-59b8-4d3b-9724-4307c90f4ed3",
    "outputId": "2697a14a-a38a-4455-8844-37ded7fbe820",
    "scrolled": true
   },
   "outputs": [
    {
     "name": "stdin",
     "output_type": "stream",
     "text": [
      "Please enter any sentence of your choice:  For the winter break I had a list of stories I wanted to write\n"
     ]
    },
    {
     "name": "stdout",
     "output_type": "stream",
     "text": [
      "\n",
      "This is your splitted list['For', 'the', 'winter', 'break', 'I', 'had', 'a', 'list', 'of', 'stories', 'I', 'wanted', 'to', 'write']\n",
      "\n",
      "This is your title case list['For', 'The', 'Winter', 'Break', 'I', 'Had', 'A', 'List', 'Of', 'Stories', 'I', 'Wanted', 'To', 'Write']\n",
      "\n",
      "This is your upper case list['FOR', 'THE', 'WINTER', 'BREAK', 'I', 'HAD', 'A', 'LIST', 'OF', 'STORIES', 'I', 'WANTED', 'TO', 'WRITE']\n"
     ]
    }
   ],
   "source": [
    "# Enter your code here\n",
    "# Reads in a string sentence\n",
    "text = input(\"Please enter any sentence of your choice: \")\n",
    "# Split the sentence into a list\n",
    "list_text = text.split(' ')\n",
    "print()\n",
    "print(f'This is your splitted list{list_text}')\n",
    "print()\n",
    "# Declaring an empty list, called title that will hold the title case\n",
    "title=[]\n",
    "# Declaring an empty list, called upper that will hold the upper case\n",
    "upper=[]\n",
    "# Iterate throught 'list_text'\n",
    "for items in list_text:\n",
    "  #append each item to the empty title list\n",
    "  title.append(items.title())\n",
    "  #append each item to the empty upper list\n",
    "  upper.append(items.upper())\n",
    "print(f'This is your title case list{title}')\n",
    "print()\n",
    "print(f'This is your upper case list{upper}')"
   ]
  },
  {
   "cell_type": "markdown",
   "metadata": {
    "id": "267642c5-69c1-4dd2-8c86-01b1b981ace7"
   },
   "source": [
    "### Qs 4. \n",
    "Make a dictionary called `cities`. Use the names of three cities as keys in your dictionary. Create a dictionary of information about each city and\n",
    "include the country that the city is in, its approximate population, and one fact about that city. The keys for each city’s dictionary should be something like\n",
    "***country***, ***population***, and ***fact***. Print the name of each city and all of the information you have stored about it."
   ]
  },
  {
   "cell_type": "code",
   "execution_count": 3,
   "metadata": {
    "colab": {
     "base_uri": "https://localhost:8080/"
    },
    "id": "c8fd468d-bcd7-4f51-afff-b4cf573aac70",
    "outputId": "52a6c3bf-d965-4e90-cd06-3f360e38491b",
    "scrolled": true
   },
   "outputs": [
    {
     "name": "stdout",
     "output_type": "stream",
     "text": [
      "{'Country': 'United_Kingdom', 'Population': 68711576, 'Year': 2022, 'Fact': \"London was derived from the old celtic word :'Londinous', Meaning : 'Boldness'\"}\n",
      "{'Country': 'United_States', 'Population': 335028178, 'Year': 2022, 'Fact': 'Los_Angeles is the only Nort American city to host the olympic twice.'}\n",
      "{'Country': 'Australia', 'Population': 26177413, 'Year': 2022, 'Fact': \"Canberra is the only city in the world,\\n                where you can skydive over the country's parliament house.\"}\n"
     ]
    }
   ],
   "source": [
    "# Enter your code here\n",
    "cities = {\n",
    "    \"Los_Angeles\" :{\n",
    "    \"Country\":\"United_States\",\n",
    "     \"Population\" : 335_028_178,\n",
    "     \"Year\" : 2022, \n",
    "     \"Fact\" : \"Los_Angeles is the only Nort American city to host the olympic twice.\"\n",
    "     },\n",
    "     \"London\" : {\n",
    "        \"Country\":\"United_Kingdom\", \n",
    "        \"Population\" : 68_711_576, \n",
    "        \"Year\" : 2022, \n",
    "        \"Fact\" : \"London was derived from the old celtic word :'Londinous', Meaning : 'Boldness'\"\n",
    "        },\n",
    "    \"Canberra\" :{\n",
    "        \"Country\":\"Australia\", \n",
    "        \"Population\" : 26_177_413, \n",
    "        \"Year\" : 2022, \n",
    "        \"Fact\" : \"\"\"Canberra is the only city in the world,\n",
    "                where you can skydive over the country's parliament house.\"\"\"\n",
    "        },\n",
    "}\n",
    "print(cities[\"London\"])\n",
    "print(cities[\"Los_Angeles\"])\n",
    "print(cities[\"Canberra\"])\n"
   ]
  },
  {
   "cell_type": "code",
   "execution_count": 4,
   "metadata": {},
   "outputs": [
    {
     "name": "stdout",
     "output_type": "stream",
     "text": [
      "This is \"Los_Angeles\", {'Country': 'United_States', 'Population': 335028178, 'Year': 2022, 'Fact': 'Los_Angeles is the only Nort American city to host the olympic twice.'}\n",
      "This is \"Los_Angeles\", {'Country': 'United_States', 'Population': 335028178, 'Year': 2022, 'Fact': 'Los_Angeles is the only Nort American city to host the olympic twice.'}\n",
      "This is \"Los_Angeles\", {'Country': 'United_States', 'Population': 335028178, 'Year': 2022, 'Fact': 'Los_Angeles is the only Nort American city to host the olympic twice.'}\n"
     ]
    }
   ],
   "source": [
    "# Using a For loop to iterate through the dictionary\n",
    "for c in cities:\n",
    "  if c == (cities[\"Canberra\"]):\n",
    "    print(f'This is Canberra, {cities[\"Canberra\"]}')\n",
    "  elif c == (cities[\"London\"]):\n",
    "    print(f'This is London, {cities[\"London\"]}')\n",
    "  else:\n",
    "    print(f'This is \"Los_Angeles\", {cities[\"Los_Angeles\"]}')"
   ]
  },
  {
   "cell_type": "markdown",
   "metadata": {
    "id": "006cd37a-9d4b-4b4e-a1b7-5a4252c9bb46",
    "tags": []
   },
   "source": [
    "### Qs 5. \n",
    "Write a Python function called `calculate_length_of_dict_values()` to find the ***length*** of a given dictionary values. \n",
    "e.g\n",
    "\n",
    "```Python\n",
    "my_dict = {1: 'red', 2: 'green', 3: 'black', 4: 'white'}\n",
    "\n",
    "calculate_length_of_dict_values(my_dict)\n",
    "```\n",
    "**`Output`**:\n",
    "```Python\n",
    "{'red': 3, 'green': 5, 'black': 5, 'white': 5}\n",
    "```"
   ]
  },
  {
   "cell_type": "code",
   "execution_count": 1,
   "metadata": {
    "id": "11b77e0d-9065-4e27-aaf2-d23473c48e3e",
    "scrolled": true
   },
   "outputs": [
    {
     "name": "stdout",
     "output_type": "stream",
     "text": [
      "The length of my dict is: {'Purple': 6, 'Orange': 6, 'Violet': 6, 'White': 5}\n"
     ]
    }
   ],
   "source": [
    "# Enter your code here\n",
    "def calculate_length_of_dict_values(dict):\n",
    "  my_dict = {}\n",
    "  for val in dict.values():\n",
    "    my_dict[val] = len(val)\n",
    "  return my_dict\n",
    "my_dict = {1: 'Purple', 2: 'Orange', 3: 'Violet', 4: 'White'}\n",
    "result = calculate_length_of_dict_values(my_dict)\n",
    "print(\"The length of my dict is:\", result)"
   ]
  },
  {
   "cell_type": "markdown",
   "metadata": {
    "id": "27539883-af94-46d2-bdad-def7a42dccdf"
   },
   "source": [
    "### Qs 6. \n",
    "Given the dict: \n",
    "\n",
    "```Python\n",
    "my_dict = {\n",
    "    \"isbn\": \"123-456-222\",\n",
    "    \"author\": {\"lastname\": \"Doe\", \"firstname\": \"Jane\"},\n",
    "    \"editor\": {\"lastname\": \"Smith\", \"firstname\": \"Jane\"},\n",
    "    \"title\": \"The Ultimate Database Study Guide\",\n",
    "    \"category\": [\"Non-Fiction\", \"Technology\"],\n",
    "}\n",
    "```\n",
    "\n",
    "a. select the category `Technology`.\n",
    "\n",
    "b. select the editior's `firstname`."
   ]
  },
  {
   "cell_type": "code",
   "execution_count": 2,
   "metadata": {
    "id": "e8d00a8a-7462-487f-8527-717d75458abd",
    "scrolled": true
   },
   "outputs": [
    {
     "name": "stdout",
     "output_type": "stream",
     "text": [
      " The value of the \"Category\" key is : Technology\n",
      " The value of the \"Author\" key is : firstname\n"
     ]
    }
   ],
   "source": [
    "# Enter your code here\n",
    "print(f' The value of the \"Category\" key is : {my_dict.get(\"category\", \"Technology\")}')\n",
    "print(f' The value of the \"Author\" key is : {my_dict.get(\"author\", \"firstname\")}')"
   ]
  },
  {
   "cell_type": "code",
   "execution_count": 9,
   "metadata": {
    "id": "1d86401d-74e3-4f10-b30c-d4411f0ae05b",
    "scrolled": true
   },
   "outputs": [],
   "source": []
  }
 ],
 "metadata": {
  "colab": {
   "collapsed_sections": [],
   "provenance": []
  },
  "kernelspec": {
   "display_name": "Python 3",
   "language": "python",
   "name": "python3"
  },
  "language_info": {
   "codemirror_mode": {
    "name": "ipython",
    "version": 3
   },
   "file_extension": ".py",
   "mimetype": "text/x-python",
   "name": "python",
   "nbconvert_exporter": "python",
   "pygments_lexer": "ipython3",
   "version": "3.7.3"
  },
  "vscode": {
   "interpreter": {
    "hash": "d0c5ed79cedddbaa16f8352bf3e5e542221587d0982b8f353612623ef853093e"
   }
  }
 },
 "nbformat": 4,
 "nbformat_minor": 5
}
