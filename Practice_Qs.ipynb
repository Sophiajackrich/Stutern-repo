{
  "cells": [
    {
      "cell_type": "markdown",
      "metadata": {
        "id": "view-in-github",
        "colab_type": "text"
      },
      "source": [
        "<a href=\"https://colab.research.google.com/github/Sophiajackrich/Stutern-repo/blob/master/Practice_Qs.ipynb\" target=\"_parent\"><img src=\"https://colab.research.google.com/assets/colab-badge.svg\" alt=\"Open In Colab\"/></a>"
      ]
    },
    {
      "cell_type": "markdown",
      "id": "a89e55db-a799-4ccb-8446-e1be0d442b0a",
      "metadata": {
        "id": "a89e55db-a799-4ccb-8446-e1be0d442b0a"
      },
      "source": [
        "# Practice Questions (lambda Functions)\n",
        "\n",
        "* Week 5 (day 1)"
      ]
    },
    {
      "cell_type": "code",
      "source": [
        "# Black code formatter (Optional. You can comment this!)"
      ],
      "metadata": {
        "id": "koVpNCMfls5g",
        "outputId": "8b3bb85b-7510-45b4-961b-fe1c707b195a",
        "colab": {
          "base_uri": "https://localhost:8080/"
        }
      },
      "id": "koVpNCMfls5g",
      "execution_count": 7,
      "outputs": [
        {
          "output_type": "stream",
          "name": "stdout",
          "text": [
            "Looking in indexes: https://pypi.org/simple, https://us-python.pkg.dev/colab-wheels/public/simple/\n",
            "Requirement already satisfied: Black in /usr/local/lib/python3.7/dist-packages (22.10.0)\n",
            "\u001b[31mERROR: Could not find a version that satisfies the requirement code (from versions: none)\u001b[0m\n",
            "\u001b[31mERROR: No matching distribution found for code\u001b[0m\n"
          ]
        }
      ]
    },
    {
      "cell_type": "code",
      "source": [
        "!pip install nb_black   # To install"
      ],
      "metadata": {
        "id": "LRjOEIzqlI7x",
        "outputId": "1e2170e2-e8d9-4939-f717-28d153d704ca",
        "colab": {
          "base_uri": "https://localhost:8080/"
        }
      },
      "id": "LRjOEIzqlI7x",
      "execution_count": 4,
      "outputs": [
        {
          "output_type": "stream",
          "name": "stdout",
          "text": [
            "Looking in indexes: https://pypi.org/simple, https://us-python.pkg.dev/colab-wheels/public/simple/\n",
            "Collecting nb_black\n",
            "  Downloading nb_black-1.0.7.tar.gz (4.8 kB)\n",
            "Requirement already satisfied: ipython in /usr/local/lib/python3.7/dist-packages (from nb_black) (7.9.0)\n",
            "Collecting black>='19.3'\n",
            "  Downloading black-22.10.0-cp37-cp37m-manylinux_2_17_x86_64.manylinux2014_x86_64.whl (1.5 MB)\n",
            "\u001b[K     |████████████████████████████████| 1.5 MB 4.8 MB/s \n",
            "\u001b[?25hCollecting mypy-extensions>=0.4.3\n",
            "  Downloading mypy_extensions-0.4.3-py2.py3-none-any.whl (4.5 kB)\n",
            "Collecting click>=8.0.0\n",
            "  Downloading click-8.1.3-py3-none-any.whl (96 kB)\n",
            "\u001b[K     |████████████████████████████████| 96 kB 4.9 MB/s \n",
            "\u001b[?25hCollecting typed-ast>=1.4.2\n",
            "  Downloading typed_ast-1.5.4-cp37-cp37m-manylinux_2_5_x86_64.manylinux1_x86_64.manylinux_2_12_x86_64.manylinux2010_x86_64.whl (843 kB)\n",
            "\u001b[K     |████████████████████████████████| 843 kB 47.3 MB/s \n",
            "\u001b[?25hRequirement already satisfied: typing-extensions>=3.10.0.0 in /usr/local/lib/python3.7/dist-packages (from black>='19.3'->nb_black) (4.1.1)\n",
            "Requirement already satisfied: tomli>=1.1.0 in /usr/local/lib/python3.7/dist-packages (from black>='19.3'->nb_black) (2.0.1)\n",
            "Collecting pathspec>=0.9.0\n",
            "  Downloading pathspec-0.10.2-py3-none-any.whl (28 kB)\n",
            "Collecting platformdirs>=2\n",
            "  Downloading platformdirs-2.5.4-py3-none-any.whl (14 kB)\n",
            "Requirement already satisfied: importlib-metadata in /usr/local/lib/python3.7/dist-packages (from click>=8.0.0->black>='19.3'->nb_black) (4.13.0)\n",
            "Requirement already satisfied: zipp>=0.5 in /usr/local/lib/python3.7/dist-packages (from importlib-metadata->click>=8.0.0->black>='19.3'->nb_black) (3.10.0)\n",
            "Requirement already satisfied: traitlets>=4.2 in /usr/local/lib/python3.7/dist-packages (from ipython->nb_black) (5.1.1)\n",
            "Requirement already satisfied: pygments in /usr/local/lib/python3.7/dist-packages (from ipython->nb_black) (2.6.1)\n",
            "Requirement already satisfied: pickleshare in /usr/local/lib/python3.7/dist-packages (from ipython->nb_black) (0.7.5)\n",
            "Requirement already satisfied: decorator in /usr/local/lib/python3.7/dist-packages (from ipython->nb_black) (4.4.2)\n",
            "Requirement already satisfied: pexpect in /usr/local/lib/python3.7/dist-packages (from ipython->nb_black) (4.8.0)\n",
            "Requirement already satisfied: prompt-toolkit<2.1.0,>=2.0.0 in /usr/local/lib/python3.7/dist-packages (from ipython->nb_black) (2.0.10)\n",
            "Requirement already satisfied: backcall in /usr/local/lib/python3.7/dist-packages (from ipython->nb_black) (0.2.0)\n",
            "Collecting jedi>=0.10\n",
            "  Downloading jedi-0.18.1-py2.py3-none-any.whl (1.6 MB)\n",
            "\u001b[K     |████████████████████████████████| 1.6 MB 48.1 MB/s \n",
            "\u001b[?25hRequirement already satisfied: setuptools>=18.5 in /usr/local/lib/python3.7/dist-packages (from ipython->nb_black) (57.4.0)\n",
            "Requirement already satisfied: parso<0.9.0,>=0.8.0 in /usr/local/lib/python3.7/dist-packages (from jedi>=0.10->ipython->nb_black) (0.8.3)\n",
            "Requirement already satisfied: wcwidth in /usr/local/lib/python3.7/dist-packages (from prompt-toolkit<2.1.0,>=2.0.0->ipython->nb_black) (0.2.5)\n",
            "Requirement already satisfied: six>=1.9.0 in /usr/local/lib/python3.7/dist-packages (from prompt-toolkit<2.1.0,>=2.0.0->ipython->nb_black) (1.15.0)\n",
            "Requirement already satisfied: ptyprocess>=0.5 in /usr/local/lib/python3.7/dist-packages (from pexpect->ipython->nb_black) (0.7.0)\n",
            "Building wheels for collected packages: nb-black\n",
            "  Building wheel for nb-black (setup.py) ... \u001b[?25l\u001b[?25hdone\n",
            "  Created wheel for nb-black: filename=nb_black-1.0.7-py3-none-any.whl size=5298 sha256=5dbcb77de060e10fd5f22825fc482580247cfd9150dc5c0e54a1ca6a3d247be1\n",
            "  Stored in directory: /root/.cache/pip/wheels/1e/b2/88/51c66d23ea5fd0d40ed50997555e15d981d92671376a9a412a\n",
            "Successfully built nb-black\n",
            "Installing collected packages: typed-ast, platformdirs, pathspec, mypy-extensions, jedi, click, black, nb-black\n",
            "  Attempting uninstall: click\n",
            "    Found existing installation: click 7.1.2\n",
            "    Uninstalling click-7.1.2:\n",
            "      Successfully uninstalled click-7.1.2\n",
            "\u001b[31mERROR: pip's dependency resolver does not currently take into account all the packages that are installed. This behaviour is the source of the following dependency conflicts.\n",
            "flask 1.1.4 requires click<8.0,>=5.1, but you have click 8.1.3 which is incompatible.\u001b[0m\n",
            "Successfully installed black-22.10.0 click-8.1.3 jedi-0.18.1 mypy-extensions-0.4.3 nb-black-1.0.7 pathspec-0.10.2 platformdirs-2.5.4 typed-ast-1.5.4\n"
          ]
        }
      ]
    },
    {
      "cell_type": "code",
      "execution_count": 8,
      "id": "e5c53896-94e1-4bf5-afbf-edaf92e1effb",
      "metadata": {
        "id": "e5c53896-94e1-4bf5-afbf-edaf92e1effb"
      },
      "outputs": [],
      "source": [
        "# Import builtin modules\n",
        "import typing as tp\n",
        "\n",
        "\n",
        "%load_ext lab_black"
      ]
    },
    {
      "cell_type": "markdown",
      "id": "d11333d5-c4d9-49fc-94c2-9178485fc9f2",
      "metadata": {
        "tags": [],
        "id": "d11333d5-c4d9-49fc-94c2-9178485fc9f2"
      },
      "source": [
        "### Qs 1. Using Lambda function, write a Python program that takes one argument and multiplies it by 5."
      ]
    },
    {
      "cell_type": "code",
      "execution_count": 13,
      "id": "2fb6d52e-e713-4bc1-9f17-d2a49d934d1e",
      "metadata": {
        "id": "2fb6d52e-e713-4bc1-9f17-d2a49d934d1e",
        "outputId": "4f12817b-54da-4c57-bd6c-94d6b225319d",
        "colab": {
          "base_uri": "https://localhost:8080/"
        }
      },
      "outputs": [
        {
          "output_type": "execute_result",
          "data": {
            "text/plain": [
              "30"
            ]
          },
          "metadata": {},
          "execution_count": 13
        }
      ],
      "source": [
        "add_func = (lambda a, b: a*b)\n",
        "\n",
        "result = add_func(5, 6)\n",
        "result"
      ]
    },
    {
      "cell_type": "markdown",
      "id": "356ff642-6ed3-4974-961d-1fe9317f0a06",
      "metadata": {
        "tags": [],
        "id": "356ff642-6ed3-4974-961d-1fe9317f0a06"
      },
      "source": [
        "### Qs 2.  Write a Python program to find if a given string in a list ends with a given character using Lambda function."
      ]
    },
    {
      "cell_type": "code",
      "execution_count": 19,
      "id": "db5e4294-52be-475d-874a-1504f8d41ff5",
      "metadata": {
        "id": "db5e4294-52be-475d-874a-1504f8d41ff5",
        "outputId": "90dc4a38-0694-4dd5-e370-bfcab1a4ac97",
        "colab": {
          "base_uri": "https://localhost:8080/"
        }
      },
      "outputs": [
        {
          "output_type": "stream",
          "name": "stdout",
          "text": [
            "True\n"
          ]
        }
      ],
      "source": [
        "sentence = 'Hi! i am Sophia.'\n",
        "ends_with = lambda sentence: sentence.endswith(\".\")\n",
        "print(ends_with(sentence))"
      ]
    },
    {
      "cell_type": "markdown",
      "id": "3b2e7e17-82b3-4bfb-9bd2-9864e3025c86",
      "metadata": {
        "tags": [],
        "id": "3b2e7e17-82b3-4bfb-9bd2-9864e3025c86"
      },
      "source": [
        "### Qs 3. Write a Python program to add two given lists using map and lambda. \n",
        "\n",
        "```Python \n",
        "# Original list:\n",
        "[4, 0, 2]\n",
        "[1, 3, 9]\n",
        "\n",
        "# Result: after adding two list\n",
        "[5, 3, 11]\n",
        "```"
      ]
    },
    {
      "cell_type": "code",
      "execution_count": 21,
      "id": "fdf1cddd-fec5-4261-8513-dde37aca54f5",
      "metadata": {
        "id": "fdf1cddd-fec5-4261-8513-dde37aca54f5"
      },
      "outputs": [],
      "source": [
        "list1 = [4, 0, 2]\n",
        "list2 = [1, 3, 9]\n",
        "add_list = list(map(lambda x,y: x+y, list1, list2))"
      ]
    },
    {
      "cell_type": "code",
      "execution_count": 22,
      "id": "a6cb7bde-5ebe-4115-b777-b65de5a9d0fd",
      "metadata": {
        "id": "a6cb7bde-5ebe-4115-b777-b65de5a9d0fd",
        "outputId": "487c0b77-a23a-4feb-f747-4151b77b4a9f",
        "colab": {
          "base_uri": "https://localhost:8080/"
        }
      },
      "outputs": [
        {
          "output_type": "execute_result",
          "data": {
            "text/plain": [
              "[5, 3, 11]"
            ]
          },
          "metadata": {},
          "execution_count": 22
        }
      ],
      "source": [
        "add_list"
      ]
    },
    {
      "cell_type": "code",
      "execution_count": null,
      "id": "c84a34de-28b9-4223-9347-d2d9469db59c",
      "metadata": {
        "id": "c84a34de-28b9-4223-9347-d2d9469db59c"
      },
      "outputs": [],
      "source": []
    }
  ],
  "metadata": {
    "kernelspec": {
      "display_name": "Python(ds)",
      "language": "python",
      "name": "ds"
    },
    "language_info": {
      "codemirror_mode": {
        "name": "ipython",
        "version": 3
      },
      "file_extension": ".py",
      "mimetype": "text/x-python",
      "name": "python",
      "nbconvert_exporter": "python",
      "pygments_lexer": "ipython3",
      "version": "3.9.0"
    },
    "colab": {
      "provenance": [],
      "collapsed_sections": [],
      "include_colab_link": true
    }
  },
  "nbformat": 4,
  "nbformat_minor": 5
}